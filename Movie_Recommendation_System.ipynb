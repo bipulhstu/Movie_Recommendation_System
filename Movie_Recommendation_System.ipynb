{
 "cells": [
  {
   "cell_type": "markdown",
   "metadata": {
    "id": "hfuqIA830VKY"
   },
   "source": [
    " # **Project 6 : Movie Recommendation System**"
   ]
  },
  {
   "cell_type": "markdown",
   "metadata": {
    "id": "dqRDA_Ua0Cmk"
   },
   "source": [
    "## **📝 Description:**\n",
    "\n",
    "*Build a recommendation system that suggests movies to users based on their viewing history and preferences. Use collaborative filtering, content-based filtering, or a hybrid approach. Visualize user preferences and recommendation accuracy.*\n"
   ]
  },
  {
   "cell_type": "markdown",
   "metadata": {
    "id": "BZtoRdqh0rbh"
   },
   "source": [
    "## **🔧 Project Structure:**\n",
    "\n",
    "1. **🧠 Define the Problem:** Understand the objective and type of problem (classification, regression, etc.).\n",
    "2. **🗂️ Collect and Prepare Data:** Obtain the dataset, handle missing values, and preprocess data.\n",
    "3. **📊 Exploratory Data Analysis (EDA):** Visualize data to understand patterns and correlations.\n",
    "4. **📐 Feature Engineering:** Select and create relevant features.\n",
    "5. **🔀 Split the Data:** Divide the dataset into training and testing sets.\n",
    "6. **🤖 Choose a Model:** Select a suitable machine learning algorithm.\n",
    "7. **🏋️ Train the Model:** Train the model using the training set.\n",
    "8. **📈 Evaluate the Model:** Use appropriate metrics to evaluate the model on the test set.\n",
    "9. **🔧 Improve the Model:** Tune hyperparameters, try different algorithms, or enhance features.\n",
    "10. **🚀 Deploy the Model (optional):** Create an application or API to make predictions using the trained model.\n"
   ]
  },
  {
   "cell_type": "markdown",
   "metadata": {
    "id": "pdLh-4CH0t_j"
   },
   "source": [
    "##  **🧪 I’ll experiment with:**\n",
    "\n",
    "*   **Collaborative Filtering:** Using KNN to find similar users and predict ratings based on their preferences.\n",
    "*   **Content-Based Filtering:** Using TF-IDF and cosine similarity to recommend movies similar to those a user has liked.\n",
    "*   **Hybrid Approach:** Combining collaborative and content-based filtering for potentially better recommendations, focusing on weighted averaging techniques.\n",
    "*   **Model Improvement:** Hyperparameter tuning for KNN, and experimenting with other collaborative filtering algorithms.\n",
    "*   **Feature engineering:** I'll look into adding movie plot summaries as features."
   ]
  },
  {
   "cell_type": "markdown",
   "metadata": {
    "id": "JqSG1qpy0035"
   },
   "source": [
    "#  **1. 🧠 Define the Problem**\n",
    "\n",
    "- We aim to build a movie recommendation system.  This is primarily a prediction problem\n",
    "- where we want to predict the rating a user would give a movie they haven't seen.\n",
    "- We'll explore collaborative and content-based filtering approaches.\n",
    "\n"
   ]
  },
  {
   "cell_type": "markdown",
   "metadata": {
    "id": "BIqGzQLT0_hH"
   },
   "source": [
    "# **Data Source: [Bengali Movie Dataset](https://www.kaggle.com/datasets/jocelyndumlao/bengali-movie-dataset)**\n",
    "\n"
   ]
  },
  {
   "cell_type": "markdown",
   "metadata": {
    "id": "jT_EetnH2fv2"
   },
   "source": [
    "## **Import Libraries**\n",
    "\n",
    "- **pandas:** Used for working with data in tables (DataFrames).\n",
    "- **numpy:** Used for numerical operations, especially for handling arrays and matrices.\n",
    "- **sklearn.model_selection.train_test_split**: Used to split your data into training and testing sets so you can evaluate how well your recommendation system works.\n",
    "- **sklearn.metrics.mean_squared_error:** Used to calculate the error in your model for example, how far off the predicted ratings are from the actual ratings.\n",
    "- **sklearn.feature_extraction.text.TfidfVectorizer:** Used to convert text data (like movie genres or descriptions) into numbers that the computer can understand, this is the Content-Based Filtering.\n",
    "- **sklearn.metrics.pairwise.linear_kernel:** Used to measure how similar movies are to each other based on their text descriptions, again for Content-Based Filtering.\n",
    "- **sklearn.neighbors.NearestNeighbors:** Used to find users who are similar to each other based on their movie ratings, this is the base for Collaborative Filtering.\n",
    "- **matplotlib.pyplot:** Used to create plots and graphs to visualize your data and results.\n",
    "- **seaborn:** Another library for creating more visually appealing plots and graphs.\n",
    "- **scipy.sparse.csr_matrix:** Used to efficiently store and work with large matrices that have many zero values (which is common in collaborative filtering)."
   ]
  },
  {
   "cell_type": "code",
   "execution_count": 1,
   "metadata": {
    "id": "TfWHw2rpO2UC"
   },
   "outputs": [],
   "source": [
    "import pandas as pd\n",
    "import numpy as np\n",
    "from sklearn.model_selection import train_test_split\n",
    "from sklearn.metrics import mean_squared_error\n",
    "from sklearn.feature_extraction.text import TfidfVectorizer\n",
    "from sklearn.metrics.pairwise import linear_kernel\n",
    "from sklearn.neighbors import NearestNeighbors\n",
    "import matplotlib.pyplot as plt\n",
    "import seaborn as sns\n",
    "from scipy.sparse import csr_matrix\n",
    "\n",
    "import warnings\n",
    "warnings.filterwarnings(\"ignore\")"
   ]
  },
  {
   "cell_type": "markdown",
   "metadata": {
    "id": "luX5LV6_2t__"
   },
   "source": [
    "# **2. 🗂️Collect and Prepare Data**\n",
    "- Download the files from kagglehub dataset\n",
    "- The data are contained in the files movies.csv and ratings.csv."
   ]
  },
  {
   "cell_type": "markdown",
   "metadata": {
    "id": "JJbxKfwuCXZq"
   },
   "source": [
    "## **2.1.📥 Download the Files**"
   ]
  },
  {
   "cell_type": "code",
   "execution_count": 2,
   "metadata": {
    "colab": {
     "base_uri": "https://localhost:8080/"
    },
    "id": "uKzLcrtw-QIZ",
    "outputId": "1b77f5f8-37c8-48e7-87a7-dc4c71711c5a"
   },
   "outputs": [
    {
     "name": "stdout",
     "output_type": "stream",
     "text": [
      "Downloading from https://www.kaggle.com/api/v1/datasets/download/jocelyndumlao/bengali-movie-dataset?dataset_version_number=1...\n"
     ]
    },
    {
     "name": "stderr",
     "output_type": "stream",
     "text": [
      "100%|██████████████████████████████████████████████████████████████████████████████████████████████| 635k/635k [00:01<00:00, 516kB/s]"
     ]
    },
    {
     "name": "stdout",
     "output_type": "stream",
     "text": [
      "Extracting files...\n",
      "Path to dataset files: /Users/bipul/.cache/kagglehub/datasets/jocelyndumlao/bengali-movie-dataset/versions/1\n"
     ]
    },
    {
     "name": "stderr",
     "output_type": "stream",
     "text": [
      "\n"
     ]
    }
   ],
   "source": [
    "import kagglehub\n",
    "\n",
    "# Download latest version\n",
    "path = kagglehub.dataset_download(\"jocelyndumlao/bengali-movie-dataset\")\n",
    "\n",
    "print(\"Path to dataset files:\", path)"
   ]
  },
  {
   "cell_type": "markdown",
   "metadata": {
    "id": "HyF9aHAaKzno"
   },
   "source": [
    "### ***Note: just run twice to show path to dataset files***"
   ]
  },
  {
   "cell_type": "markdown",
   "metadata": {
    "id": "U7BJefs4Nc8A"
   },
   "source": [
    "## **2.3. 🗂️ Load Files from Project Directory**\n",
    "- Load the CSV files from the local dataset directory:"
   ]
  },
  {
   "cell_type": "code",
   "execution_count": 25,
   "metadata": {
    "colab": {
     "base_uri": "https://localhost:8080/"
    },
    "id": "6xqvc2f4OtZn",
    "outputId": "a3cc8fd9-2abb-4011-ca2c-6f539712c219"
   },
   "outputs": [
    {
     "name": "stdout",
     "output_type": "stream",
     "text": [
      "Dataset directory: dataset\n",
      "Files in dataset directory: ['.DS_Store', 'ratings.csv', '.ipynb_checkpoints', 'movies.csv']\n"
     ]
    }
   ],
   "source": [
    "import os\n",
    "\n",
    "# Set the path to the local dataset directory\n",
    "dataset_path = \"dataset\"\n",
    "files = os.listdir(dataset_path)\n",
    "\n",
    "print(\"Dataset directory:\", dataset_path)\n",
    "print(\"Files in dataset directory:\", files)\n"
   ]
  },
  {
   "cell_type": "markdown",
   "metadata": {
    "id": "vzMGBgeRVcWJ"
   },
   "source": [
    "## **2.4. 📥 Read the CSV Files**\n",
    "\n",
    "Load the movies.csv and ratings.csv files from the local dataset directory:"
   ]
  },
  {
   "cell_type": "code",
   "execution_count": 26,
   "metadata": {
    "id": "Bfw5YE_dPNHQ"
   },
   "outputs": [],
   "source": [
    "import pandas as pd\n",
    "\n",
    "# Load the CSV files from the local dataset directory\n",
    "movies_df = pd.read_csv(f\"{dataset_path}/movies.csv\")\n",
    "ratings_df = pd.read_csv(f\"{dataset_path}/ratings.csv\")\n"
   ]
  },
  {
   "cell_type": "code",
   "execution_count": 27,
   "metadata": {
    "id": "8_QJLTS_xEku"
   },
   "outputs": [],
   "source": [
    "movies_df.rename(columns=lambda x: x.strip(), inplace=True)  # Strip all column names"
   ]
  },
  {
   "cell_type": "code",
   "execution_count": 28,
   "metadata": {
    "colab": {
     "base_uri": "https://localhost:8080/",
     "height": 224
    },
    "id": "_8JCotacGySJ",
    "outputId": "2f9fc984-546c-44a9-b925-07b575512cb8"
   },
   "outputs": [
    {
     "name": "stdout",
     "output_type": "stream",
     "text": [
      "(381, 6)\n"
     ]
    },
    {
     "data": {
      "text/html": [
       "<style type=\"text/css\">\n",
       "#T_09088_row0_col1 {\n",
       "  background-color: #800026;\n",
       "  color: #f1f1f1;\n",
       "}\n",
       "#T_09088_row1_col1 {\n",
       "  background-color: #e31a1c;\n",
       "  color: #f1f1f1;\n",
       "}\n",
       "#T_09088_row2_col1 {\n",
       "  background-color: #fd8e3c;\n",
       "  color: #f1f1f1;\n",
       "}\n",
       "#T_09088_row3_col1 {\n",
       "  background-color: #fed977;\n",
       "  color: #000000;\n",
       "}\n",
       "#T_09088_row4_col1 {\n",
       "  background-color: #ffffcc;\n",
       "  color: #000000;\n",
       "}\n",
       "</style>\n",
       "<table id=\"T_09088\">\n",
       "  <thead>\n",
       "    <tr>\n",
       "      <th class=\"blank level0\" >&nbsp;</th>\n",
       "      <th id=\"T_09088_level0_col0\" class=\"col_heading level0 col0\" >platform_Name</th>\n",
       "      <th id=\"T_09088_level0_col1\" class=\"col_heading level0 col1\" >movieId</th>\n",
       "      <th id=\"T_09088_level0_col2\" class=\"col_heading level0 col2\" >title</th>\n",
       "      <th id=\"T_09088_level0_col3\" class=\"col_heading level0 col3\" >genres</th>\n",
       "      <th id=\"T_09088_level0_col4\" class=\"col_heading level0 col4\" >director</th>\n",
       "      <th id=\"T_09088_level0_col5\" class=\"col_heading level0 col5\" >starring</th>\n",
       "    </tr>\n",
       "  </thead>\n",
       "  <tbody>\n",
       "    <tr>\n",
       "      <th id=\"T_09088_level0_row0\" class=\"row_heading level0 row0\" >0</th>\n",
       "      <td id=\"T_09088_row0_col0\" class=\"data row0 col0\" >Chorki</td>\n",
       "      <td id=\"T_09088_row0_col1\" class=\"data row0 col1\" >1</td>\n",
       "      <td id=\"T_09088_row0_col2\" class=\"data row0 col2\" >SHUKLOPOKKHO</td>\n",
       "      <td id=\"T_09088_row0_col3\" class=\"data row0 col3\" >ROMANTIC THRILLER</td>\n",
       "      <td id=\"T_09088_row0_col4\" class=\"data row0 col4\" >Vicky Zahed</td>\n",
       "      <td id=\"T_09088_row0_col5\" class=\"data row0 col5\" >Khairul Basar, Sunerah Binte Kamal, Ziaul Roshan, Faruk ahmed, Sharif Siraj, Abdullah Shentu</td>\n",
       "    </tr>\n",
       "    <tr>\n",
       "      <th id=\"T_09088_level0_row1\" class=\"row_heading level0 row1\" >1</th>\n",
       "      <td id=\"T_09088_row1_col0\" class=\"data row1 col0\" >Chorki</td>\n",
       "      <td id=\"T_09088_row1_col1\" class=\"data row1 col1\" >2</td>\n",
       "      <td id=\"T_09088_row1_col2\" class=\"data row1 col2\" >SHILPI</td>\n",
       "      <td id=\"T_09088_row1_col3\" class=\"data row1 col3\" >DRAMA</td>\n",
       "      <td id=\"T_09088_row1_col4\" class=\"data row1 col4\" >Agragami</td>\n",
       "      <td id=\"T_09088_row1_col5\" class=\"data row1 col5\" >Uttam Kumar, Suchitra Sen</td>\n",
       "    </tr>\n",
       "    <tr>\n",
       "      <th id=\"T_09088_level0_row2\" class=\"row_heading level0 row2\" >2</th>\n",
       "      <td id=\"T_09088_row2_col0\" class=\"data row2 col0\" >Chorki</td>\n",
       "      <td id=\"T_09088_row2_col1\" class=\"data row2 col1\" >3</td>\n",
       "      <td id=\"T_09088_row2_col2\" class=\"data row2 col2\" >SHAREY CHUATTOR</td>\n",
       "      <td id=\"T_09088_row2_col3\" class=\"data row2 col3\" >DRAMA</td>\n",
       "      <td id=\"T_09088_row2_col4\" class=\"data row2 col4\" >Nirmal Dey</td>\n",
       "      <td id=\"T_09088_row2_col5\" class=\"data row2 col5\" >Uttam Kumar, Suchitra Sen, Tulsi Chakraborty</td>\n",
       "    </tr>\n",
       "    <tr>\n",
       "      <th id=\"T_09088_level0_row3\" class=\"row_heading level0 row3\" >3</th>\n",
       "      <td id=\"T_09088_row3_col0\" class=\"data row3 col0\" >Chorki</td>\n",
       "      <td id=\"T_09088_row3_col1\" class=\"data row3 col1\" >4</td>\n",
       "      <td id=\"T_09088_row3_col2\" class=\"data row3 col2\" >SAGARIKA</td>\n",
       "      <td id=\"T_09088_row3_col3\" class=\"data row3 col3\" >DRAMA</td>\n",
       "      <td id=\"T_09088_row3_col4\" class=\"data row3 col4\" >Agragami</td>\n",
       "      <td id=\"T_09088_row3_col5\" class=\"data row3 col5\" >Uttam Kumar, Suchitra Sen, Jamuna Sinha, Namita Sinha</td>\n",
       "    </tr>\n",
       "    <tr>\n",
       "      <th id=\"T_09088_level0_row4\" class=\"row_heading level0 row4\" >4</th>\n",
       "      <td id=\"T_09088_row4_col0\" class=\"data row4 col0\" >Chorki</td>\n",
       "      <td id=\"T_09088_row4_col1\" class=\"data row4 col1\" >5</td>\n",
       "      <td id=\"T_09088_row4_col2\" class=\"data row4 col2\" >DEEP JWELEY JAI</td>\n",
       "      <td id=\"T_09088_row4_col3\" class=\"data row4 col3\" >DRAMA</td>\n",
       "      <td id=\"T_09088_row4_col4\" class=\"data row4 col4\" >Asit Sen</td>\n",
       "      <td id=\"T_09088_row4_col5\" class=\"data row4 col5\" >Suchitra Sen, Tulsi Chakraborty, Ajit Chatterjee, Anil Chatterjee</td>\n",
       "    </tr>\n",
       "  </tbody>\n",
       "</table>\n"
      ],
      "text/plain": [
       "<pandas.io.formats.style.Styler at 0x151dc6850>"
      ]
     },
     "execution_count": 28,
     "metadata": {},
     "output_type": "execute_result"
    }
   ],
   "source": [
    "print(movies_df.shape)\n",
    "movies_df.head().style.background_gradient(cmap='YlOrRd_r')"
   ]
  },
  {
   "cell_type": "code",
   "execution_count": 29,
   "metadata": {
    "colab": {
     "base_uri": "https://localhost:8080/",
     "height": 224
    },
    "id": "_uXQikW-KX8v",
    "outputId": "23bc71ed-1a0f-4b3a-faba-f72b5ee2bda9"
   },
   "outputs": [
    {
     "name": "stdout",
     "output_type": "stream",
     "text": [
      "(105156, 4)\n"
     ]
    },
    {
     "data": {
      "text/html": [
       "<style type=\"text/css\">\n",
       "#T_d6d9c_row0_col0, #T_d6d9c_row0_col1, #T_d6d9c_row1_col0, #T_d6d9c_row1_col2, #T_d6d9c_row1_col3, #T_d6d9c_row2_col0, #T_d6d9c_row3_col0, #T_d6d9c_row4_col0 {\n",
       "  background-color: #800026;\n",
       "  color: #f1f1f1;\n",
       "}\n",
       "#T_d6d9c_row0_col2, #T_d6d9c_row0_col3, #T_d6d9c_row2_col2, #T_d6d9c_row3_col2, #T_d6d9c_row4_col1, #T_d6d9c_row4_col2 {\n",
       "  background-color: #ffffcc;\n",
       "  color: #000000;\n",
       "}\n",
       "#T_d6d9c_row1_col1 {\n",
       "  background-color: #e31a1c;\n",
       "  color: #f1f1f1;\n",
       "}\n",
       "#T_d6d9c_row2_col1 {\n",
       "  background-color: #fd8e3c;\n",
       "  color: #f1f1f1;\n",
       "}\n",
       "#T_d6d9c_row2_col3 {\n",
       "  background-color: #da141e;\n",
       "  color: #f1f1f1;\n",
       "}\n",
       "#T_d6d9c_row3_col1 {\n",
       "  background-color: #fed977;\n",
       "  color: #000000;\n",
       "}\n",
       "#T_d6d9c_row3_col3 {\n",
       "  background-color: #fc4f2a;\n",
       "  color: #f1f1f1;\n",
       "}\n",
       "#T_d6d9c_row4_col3 {\n",
       "  background-color: #f94828;\n",
       "  color: #f1f1f1;\n",
       "}\n",
       "</style>\n",
       "<table id=\"T_d6d9c\">\n",
       "  <thead>\n",
       "    <tr>\n",
       "      <th class=\"blank level0\" >&nbsp;</th>\n",
       "      <th id=\"T_d6d9c_level0_col0\" class=\"col_heading level0 col0\" >userId</th>\n",
       "      <th id=\"T_d6d9c_level0_col1\" class=\"col_heading level0 col1\" >movieId</th>\n",
       "      <th id=\"T_d6d9c_level0_col2\" class=\"col_heading level0 col2\" >rating</th>\n",
       "      <th id=\"T_d6d9c_level0_col3\" class=\"col_heading level0 col3\" >timestamp</th>\n",
       "    </tr>\n",
       "  </thead>\n",
       "  <tbody>\n",
       "    <tr>\n",
       "      <th id=\"T_d6d9c_level0_row0\" class=\"row_heading level0 row0\" >0</th>\n",
       "      <td id=\"T_d6d9c_row0_col0\" class=\"data row0 col0\" >1</td>\n",
       "      <td id=\"T_d6d9c_row0_col1\" class=\"data row0 col1\" >1</td>\n",
       "      <td id=\"T_d6d9c_row0_col2\" class=\"data row0 col2\" >4.000000</td>\n",
       "      <td id=\"T_d6d9c_row0_col3\" class=\"data row0 col3\" >1217897793</td>\n",
       "    </tr>\n",
       "    <tr>\n",
       "      <th id=\"T_d6d9c_level0_row1\" class=\"row_heading level0 row1\" >1</th>\n",
       "      <td id=\"T_d6d9c_row1_col0\" class=\"data row1 col0\" >1</td>\n",
       "      <td id=\"T_d6d9c_row1_col1\" class=\"data row1 col1\" >2</td>\n",
       "      <td id=\"T_d6d9c_row1_col2\" class=\"data row1 col2\" >1.500000</td>\n",
       "      <td id=\"T_d6d9c_row1_col3\" class=\"data row1 col3\" >1217895807</td>\n",
       "    </tr>\n",
       "    <tr>\n",
       "      <th id=\"T_d6d9c_level0_row2\" class=\"row_heading level0 row2\" >2</th>\n",
       "      <td id=\"T_d6d9c_row2_col0\" class=\"data row2 col0\" >1</td>\n",
       "      <td id=\"T_d6d9c_row2_col1\" class=\"data row2 col1\" >3</td>\n",
       "      <td id=\"T_d6d9c_row2_col2\" class=\"data row2 col2\" >4.000000</td>\n",
       "      <td id=\"T_d6d9c_row2_col3\" class=\"data row2 col3\" >1217896246</td>\n",
       "    </tr>\n",
       "    <tr>\n",
       "      <th id=\"T_d6d9c_level0_row3\" class=\"row_heading level0 row3\" >3</th>\n",
       "      <td id=\"T_d6d9c_row3_col0\" class=\"data row3 col0\" >1</td>\n",
       "      <td id=\"T_d6d9c_row3_col1\" class=\"data row3 col1\" >4</td>\n",
       "      <td id=\"T_d6d9c_row3_col2\" class=\"data row3 col2\" >4.000000</td>\n",
       "      <td id=\"T_d6d9c_row3_col3\" class=\"data row3 col3\" >1217896556</td>\n",
       "    </tr>\n",
       "    <tr>\n",
       "      <th id=\"T_d6d9c_level0_row4\" class=\"row_heading level0 row4\" >4</th>\n",
       "      <td id=\"T_d6d9c_row4_col0\" class=\"data row4 col0\" >1</td>\n",
       "      <td id=\"T_d6d9c_row4_col1\" class=\"data row4 col1\" >5</td>\n",
       "      <td id=\"T_d6d9c_row4_col2\" class=\"data row4 col2\" >4.000000</td>\n",
       "      <td id=\"T_d6d9c_row4_col3\" class=\"data row4 col3\" >1217896523</td>\n",
       "    </tr>\n",
       "  </tbody>\n",
       "</table>\n"
      ],
      "text/plain": [
       "<pandas.io.formats.style.Styler at 0x151dc65d0>"
      ]
     },
     "execution_count": 29,
     "metadata": {},
     "output_type": "execute_result"
    }
   ],
   "source": [
    "print(ratings_df.shape)\n",
    "ratings_df.head().style.background_gradient(cmap='YlOrRd_r')"
   ]
  },
  {
   "cell_type": "code",
   "execution_count": 30,
   "metadata": {
    "colab": {
     "base_uri": "https://localhost:8080/"
    },
    "id": "eSfHiuHj4Tk6",
    "outputId": "ad2bf2a1-809a-4017-ef46-44caef17965b"
   },
   "outputs": [
    {
     "data": {
      "text/plain": [
       "Index(['platform_Name', 'movieId', 'title', 'genres', 'director', 'starring'], dtype='object')"
      ]
     },
     "execution_count": 30,
     "metadata": {},
     "output_type": "execute_result"
    }
   ],
   "source": [
    "movies_df.columns"
   ]
  },
  {
   "cell_type": "code",
   "execution_count": 31,
   "metadata": {
    "colab": {
     "base_uri": "https://localhost:8080/"
    },
    "id": "rwAUT3LF4jyC",
    "outputId": "08e9fd50-e80a-4e9c-8ef5-aa98e7dbfa15"
   },
   "outputs": [
    {
     "data": {
      "text/plain": [
       "Index(['userId', 'movieId', 'rating', 'timestamp'], dtype='object')"
      ]
     },
     "execution_count": 31,
     "metadata": {},
     "output_type": "execute_result"
    }
   ],
   "source": [
    "ratings_df.columns"
   ]
  },
  {
   "cell_type": "code",
   "execution_count": 32,
   "metadata": {
    "colab": {
     "base_uri": "https://localhost:8080/",
     "height": 307
    },
    "id": "8W369Fw5po3z",
    "outputId": "f211360e-748a-4135-9e7f-c8f28dc8252b"
   },
   "outputs": [
    {
     "name": "stdout",
     "output_type": "stream",
     "text": [
      "\n",
      "Missing Values in Movies DataFrame:\n"
     ]
    },
    {
     "data": {
      "text/plain": [
       "platform_Name      0\n",
       "movieId            0\n",
       "title              0\n",
       "genres             0\n",
       "director         158\n",
       "starring           9\n",
       "dtype: int64"
      ]
     },
     "execution_count": 32,
     "metadata": {},
     "output_type": "execute_result"
    }
   ],
   "source": [
    "# Handling Missing values\n",
    "print(\"\\nMissing Values in Movies DataFrame:\")\n",
    "movies_df.isnull().sum()"
   ]
  },
  {
   "cell_type": "code",
   "execution_count": 33,
   "metadata": {
    "colab": {
     "base_uri": "https://localhost:8080/",
     "height": 244
    },
    "id": "UZg0Y_sFv7b3",
    "outputId": "a90bbb52-840c-4d4b-8e93-133e0a3a1662"
   },
   "outputs": [
    {
     "name": "stdout",
     "output_type": "stream",
     "text": [
      "\n",
      "Missing Values in Ratings DataFrame:\n"
     ]
    },
    {
     "data": {
      "text/plain": [
       "userId       0\n",
       "movieId      0\n",
       "rating       0\n",
       "timestamp    0\n",
       "dtype: int64"
      ]
     },
     "execution_count": 33,
     "metadata": {},
     "output_type": "execute_result"
    }
   ],
   "source": [
    "print(\"\\nMissing Values in Ratings DataFrame:\")\n",
    "ratings_df.isnull().sum()"
   ]
  },
  {
   "cell_type": "markdown",
   "metadata": {
    "id": "BBAdpKotz_GY"
   },
   "source": [
    "## **🧹Data Cleaning and Preprocessing**\n",
    "\n",
    "- **Handle Missing Values:** Check if we have any missing data in our movie and ratings DataFrames. If there are, fill them with a default value (like \"Unknown\" for movie director/stars) or remove the rows/columns with missing data.\n",
    "- **Check Data Types:** Make sure the columns in our DataFrames have the correct data types. For example, movie IDs and user IDs should be integers.\n",
    "- **Convert platform_name to categorical:** Convert platform_name to categorical because this type is most efficient because it uses less memory and can increase performance."
   ]
  },
  {
   "cell_type": "code",
   "execution_count": 34,
   "metadata": {
    "id": "_7e4I6thqLWW"
   },
   "outputs": [],
   "source": [
    "# Handle missing values (Imputation or Removal)\n",
    "# For simplicity, we'll fill missing values in 'director' and 'starring' with 'Unknown'\n",
    "movies_df['director'] = movies_df['director'].fillna('Unknown')\n",
    "movies_df['starring'] = movies_df['starring'].fillna('Unknown')\n"
   ]
  },
  {
   "cell_type": "code",
   "execution_count": 35,
   "metadata": {
    "colab": {
     "base_uri": "https://localhost:8080/"
    },
    "id": "uGS1sQ66qUzW",
    "outputId": "7534ecd6-fb0e-46b2-b0ae-08fa1c9c9256"
   },
   "outputs": [
    {
     "name": "stdout",
     "output_type": "stream",
     "text": [
      "\n",
      "Data Types in Movies DataFrame:\n",
      "platform_Name    object\n",
      "movieId           int64\n",
      "title            object\n",
      "genres           object\n",
      "director         object\n",
      "starring         object\n",
      "dtype: object\n",
      "\n",
      "Data Types in Ratings DataFrame:\n",
      "userId         int64\n",
      "movieId        int64\n",
      "rating       float64\n",
      "timestamp      int64\n",
      "dtype: object\n"
     ]
    }
   ],
   "source": [
    "#Check data types\n",
    "print(\"\\nData Types in Movies DataFrame:\")\n",
    "print(movies_df.dtypes)\n",
    "print(\"\\nData Types in Ratings DataFrame:\")\n",
    "print(ratings_df.dtypes)\n"
   ]
  },
  {
   "cell_type": "code",
   "execution_count": 36,
   "metadata": {
    "id": "SfjT10ppqYVs"
   },
   "outputs": [],
   "source": [
    "# Convert platform_name to categorical\n",
    "movies_df['platform_Name'] = movies_df['platform_Name'].astype('category')\n"
   ]
  },
  {
   "cell_type": "markdown",
   "metadata": {
    "id": "ZY7SIMiY3JJb"
   },
   "source": [
    "# **3. 📊 Exploratory Data Analysis (EDA)**\n",
    "\n",
    "We Look at our data to understand it better. This usually involves making plots and calculating statistics:\n",
    "\n",
    "- **Rating Distribution:** How many ratings of each type (1 star, 2 stars, etc.) are there?\n",
    "- **Movies per Platform:** How many movies available on each platform?\n",
    "- **Most Common Genres:** Which movie genres are the most popular?\n",
    "- **Popular Movies:** Which movies have the most ratings?\n",
    "- **Highly Rated Movies:** Which movies have the highest average ratings?\n",
    "- **User Rating Distribution:** How many movies has each user rated?\n",
    "- **Rating over Time:** How do average ratings change over time?"
   ]
  },
  {
   "cell_type": "markdown",
   "metadata": {
    "id": "600WFUqjzG3-"
   },
   "source": [
    "## **3.1. Distribution of Movie Ratings**"
   ]
  },
  {
   "cell_type": "code",
   "execution_count": 37,
   "metadata": {
    "colab": {
     "base_uri": "https://localhost:8080/",
     "height": 803
    },
    "id": "XUzgayNRy7Ir",
    "outputId": "3d01303b-1ba7-47f5-827d-f42152c0bb9b"
   },
   "outputs": [
    {
     "name": "stdout",
     "output_type": "stream",
     "text": [
      "Ratings Distribution:\n",
      " rating\n",
      "0.5     1193\n",
      "1.0     3242\n",
      "1.5     1550\n",
      "2.0     7901\n",
      "2.5     5430\n",
      "3.0    21618\n",
      "3.5    12193\n",
      "4.0    28808\n",
      "4.5     8206\n",
      "5.0    15015\n",
      "Name: count, dtype: int64\n"
     ]
    },
    {
     "data": {
      "image/png": "[encoded data removed]",
      "text/plain": [
       "<Figure size 800x600 with 1 Axes>"
      ]
     },
     "metadata": {},
     "output_type": "display_data"
    }
   ],
   "source": [
    "# Apply global seaborn theme\n",
    "sns.set_theme(palette=\"pastel\", font_scale=1.1)\n",
    "\n",
    "# Distribution of Movie Ratings:\n",
    "print(\"Ratings Distribution:\\n\", ratings_df['rating'].value_counts().sort_index())\n",
    "plt.figure(figsize=(8, 6))\n",
    "sns.histplot(ratings_df['rating'], bins=5, kde=True, color='skyblue', edgecolor='black')\n",
    "plt.title('Distribution of Movie Ratings', fontsize=14, fontweight='bold', color='darkcyan')\n",
    "plt.xlabel('Rating', fontsize=12, fontweight='bold', color='darkgreen')\n",
    "plt.ylabel('Frequency', fontsize=12, fontweight='bold', color='darkgreen')\n",
    "plt.gca().set_facecolor('#f0faff')\n",
    "plt.show()"
   ]
  },
  {
   "cell_type": "markdown",
   "metadata": {
    "id": "BU62ek9GzVdQ"
   },
   "source": [
    "## **3.2. Number of Movies per Platform**"
   ]
  },
  {
   "cell_type": "code",
   "execution_count": 38,
   "metadata": {
    "colab": {
     "base_uri": "https://localhost:8080/",
     "height": 664
    },
    "id": "Jk9DIFlwzSqI",
    "outputId": "c1ffa289-ee57-49f5-f3b1-9b1a48c7b31a"
   },
   "outputs": [
    {
     "name": "stdout",
     "output_type": "stream",
     "text": [
      "Movies per Platform:\n",
      " platform_Name\n",
      "Hoichoi    218\n",
      "Chorki     163\n",
      "Name: count, dtype: int64\n"
     ]
    },
    {
     "data": {
      "image/png": "[encoded data removed]",
      "text/plain": [
       "<Figure size 800x600 with 1 Axes>"
      ]
     },
     "metadata": {},
     "output_type": "display_data"
    }
   ],
   "source": [
    "# Number of Movies per Platform:\n",
    "platform_counts = movies_df['platform_Name'].value_counts()\n",
    "print(\"Movies per Platform:\\n\", platform_counts)\n",
    "plt.figure(figsize=(8, 6))\n",
    "sns.barplot(x=platform_counts.index, y=platform_counts.values, palette='Set2', edgecolor='black')\n",
    "plt.title('Number of Movies per Platform', fontsize=14, fontweight='bold', color='darkcyan')\n",
    "plt.xlabel('Platform', fontsize=12, fontweight='bold', color='darkgreen')\n",
    "plt.ylabel('Number of Movies', fontsize=12, fontweight='bold', color='darkgreen')\n",
    "plt.gca().set_facecolor('#f0faff')\n",
    "plt.show()"
   ]
  },
  {
   "cell_type": "markdown",
   "metadata": {
    "id": "usCc1gzNzn-2"
   },
   "source": [
    "## **3.3. Distribution of genres**"
   ]
  },
  {
   "cell_type": "code",
   "execution_count": 39,
   "metadata": {
    "colab": {
     "base_uri": "https://localhost:8080/",
     "height": 823
    },
    "id": "VFO-KIWTzlPv",
    "outputId": "3bfb5836-25e6-41c0-a8b9-96286618b92f"
   },
   "outputs": [
    {
     "name": "stdout",
     "output_type": "stream",
     "text": [
      "Top 10 Genre Counts:\n",
      " genres\n",
      "DRAMA              96\n",
      "Thriller           43\n",
      "Drama              40\n",
      "Comedy             27\n",
      "Horror             20\n",
      "Crime, Thriller    18\n",
      "COMEDY             10\n",
      "Drama, Romance      9\n",
      "Romance             9\n",
      "THRILLER            9\n",
      "Name: count, dtype: int64\n"
     ]
    },
    {
     "data": {
      "image/png": "[encoded data removed]",
      "text/plain": [
       "<Figure size 1200x600 with 1 Axes>"
      ]
     },
     "metadata": {},
     "output_type": "display_data"
    }
   ],
   "source": [
    "# Distribution of genres\n",
    "genre_counts = movies_df['genres'].value_counts().head(10)\n",
    "print(\"Top 10 Genre Counts:\\n\", genre_counts)\n",
    "\n",
    "plt.figure(figsize=(12, 6))\n",
    "sns.barplot(x=genre_counts.index, y=genre_counts.values, palette='pastel', edgecolor='black')\n",
    "plt.xticks(rotation=45, ha='right')\n",
    "plt.title('Top 10 Genre Distribution', fontsize=14, fontweight='bold', color='maroon')\n",
    "plt.xlabel('Genres', fontsize=12, fontweight='bold', color='brown')\n",
    "plt.ylabel('Number of Movies', fontsize=12, fontweight='bold', color='brown')\n",
    "plt.tight_layout()\n",
    "plt.gca().set_facecolor('#f0faff')\n",
    "plt.show()"
   ]
  },
  {
   "cell_type": "markdown",
   "metadata": {
    "id": "bDgUKnEVz5IP"
   },
   "source": [
    "## **3.4. Most Popular Movies (based on number of ratings)**"
   ]
  },
  {
   "cell_type": "code",
   "execution_count": 40,
   "metadata": {
    "colab": {
     "base_uri": "https://localhost:8080/",
     "height": 803
    },
    "id": "uqrLev2zzzzO",
    "outputId": "1f563013-b9d4-47dc-a268-79a2442f6ec7"
   },
   "outputs": [
    {
     "name": "stdout",
     "output_type": "stream",
     "text": [
      "Top 10 Most Popular Movie IDs and Their Rating Counts:\n",
      " movieId\n",
      "1      276\n",
      "252    276\n",
      "261    276\n",
      "260    276\n",
      "259    276\n",
      "258    276\n",
      "257    276\n",
      "256    276\n",
      "255    276\n",
      "254    276\n",
      "Name: count, dtype: int64\n"
     ]
    },
    {
     "data": {
      "image/png": "[encoded data removed]",
      "text/plain": [
       "<Figure size 1000x600 with 1 Axes>"
      ]
     },
     "metadata": {},
     "output_type": "display_data"
    }
   ],
   "source": [
    "# Most Popular Movies (based on number of ratings):\n",
    "movie_popularity = ratings_df['movieId'].value_counts().head(10)\n",
    "print(\"Top 10 Most Popular Movie IDs and Their Rating Counts:\\n\", movie_popularity)\n",
    "\n",
    "plt.figure(figsize=(10, 6))\n",
    "sns.barplot(x=movie_popularity.index, y=movie_popularity.values, palette='coolwarm', edgecolor='black')\n",
    "plt.title('Top 10 Most Popular Movies (based on rating count)', fontsize=14, fontweight='bold', color='darkcyan')\n",
    "plt.xlabel('Movie ID', fontsize=12, fontweight='bold', color='darkgreen')\n",
    "plt.ylabel('Number of Ratings', fontsize=12, fontweight='bold', color='darkgreen')\n",
    "plt.gca().set_facecolor('#f0faff')\n",
    "plt.show()"
   ]
  },
  {
   "cell_type": "markdown",
   "metadata": {
    "id": "Eexy4MRq0Lar"
   },
   "source": [
    "## **3.5. Average Rating per Movie**"
   ]
  },
  {
   "cell_type": "code",
   "execution_count": 41,
   "metadata": {
    "colab": {
     "base_uri": "https://localhost:8080/",
     "height": 803
    },
    "id": "Ls3LsXui0IAj",
    "outputId": "c4cdbaaf-7590-4c90-9470-0b985492689e"
   },
   "outputs": [
    {
     "name": "stdout",
     "output_type": "stream",
     "text": [
      "Top 10 Movies by Average Rating:\n",
      " movieId\n",
      "174    4.764493\n",
      "170    3.663043\n",
      "133    3.637681\n",
      "131    3.637681\n",
      "180    3.634058\n",
      "253    3.634058\n",
      "120    3.628623\n",
      "254    3.626812\n",
      "7      3.625000\n",
      "62     3.625000\n",
      "Name: rating, dtype: float64\n"
     ]
    },
    {
     "data": {
      "image/png": "[encoded data removed]",
      "text/plain": [
       "<Figure size 1000x600 with 1 Axes>"
      ]
     },
     "metadata": {},
     "output_type": "display_data"
    }
   ],
   "source": [
    "# Average Rating per Movie\n",
    "avg_ratings = ratings_df.groupby('movieId')['rating'].mean()\n",
    "top_rated_movies = avg_ratings.sort_values(ascending=False).head(10)\n",
    "print(\"Top 10 Movies by Average Rating:\\n\", top_rated_movies)\n",
    "plt.figure(figsize=(10, 6))\n",
    "sns.barplot(x=top_rated_movies.index, y=top_rated_movies.values, palette='viridis', edgecolor='black')\n",
    "plt.title('Top 10 Highest Rated Movies', fontsize=14, fontweight='bold', color='red')\n",
    "plt.xlabel('Movie ID', fontsize=12, fontweight='bold', color='maroon')\n",
    "plt.ylabel('Average Rating', fontsize=12, fontweight='bold', color='maroon')\n",
    "plt.gca().set_facecolor('#f0faff')\n",
    "plt.show()"
   ]
  },
  {
   "cell_type": "markdown",
   "metadata": {
    "id": "V7wVo_DU0dzy"
   },
   "source": [
    "## **3.6. Distribution of User Ratings**"
   ]
  },
  {
   "cell_type": "code",
   "execution_count": 42,
   "metadata": {
    "colab": {
     "base_uri": "https://localhost:8080/",
     "height": 751
    },
    "id": "u1jRWRQm0ZBA",
    "outputId": "23025ca1-87ac-4b53-9229-83d0383770f5"
   },
   "outputs": [
    {
     "name": "stdout",
     "output_type": "stream",
     "text": [
      "User Rating Counts:\n",
      " count     668.000000\n",
      "mean      157.419162\n",
      "std       315.019189\n",
      "min        20.000000\n",
      "25%        35.000000\n",
      "50%        70.500000\n",
      "75%       153.000000\n",
      "max      5495.000000\n",
      "Name: count, dtype: float64\n"
     ]
    },
    {
     "data": {
      "image/png": "[encoded data removed]",
      "text/plain": [
       "<Figure size 1000x600 with 1 Axes>"
      ]
     },
     "metadata": {},
     "output_type": "display_data"
    }
   ],
   "source": [
    "# Distribution of User Ratings (number of ratings given by each user):\n",
    "user_ratings = ratings_df['userId'].value_counts()\n",
    "print(\"User Rating Counts:\\n\", user_ratings.describe())\n",
    "plt.figure(figsize=(10, 6))\n",
    "sns.histplot(user_ratings, bins=50, kde=True, color='salmon', edgecolor='black')\n",
    "plt.title('Distribution of User Ratings (Number of Ratings per User)', fontsize=14, fontweight='bold', color='darkblue')\n",
    "plt.xlabel('Number of Ratings Given', fontsize=12, fontweight='bold', color='darkorange')\n",
    "plt.ylabel('Number of Users', fontsize=12, fontweight='bold', color='darkorange')\n",
    "plt.gca().set_facecolor('#f0faff')\n",
    "plt.show()"
   ]
  },
  {
   "cell_type": "markdown",
   "metadata": {
    "id": "0awqn_b30qra"
   },
   "source": [
    "## **3.7. Rating vs Time**"
   ]
  },
  {
   "cell_type": "code",
   "execution_count": 43,
   "metadata": {
    "colab": {
     "base_uri": "https://localhost:8080/",
     "height": 736
    },
    "id": "gf135V5ata4X",
    "outputId": "e3d7a424-b374-414f-8074-11fd60a349c6"
   },
   "outputs": [
    {
     "name": "stdout",
     "output_type": "stream",
     "text": [
      "Average Ratings Over Time (sample):\n",
      " datetime\n",
      "1996-04-03    3.875000\n",
      "1996-04-06    4.117647\n",
      "1996-04-09    3.954545\n",
      "1996-04-23    3.772727\n",
      "1996-04-24    4.000000\n",
      "Name: rating, dtype: float64\n"
     ]
    },
    {
     "data": {
      "image/png": "[encoded data removed]",
      "text/plain": [
       "<Figure size 1200x600 with 1 Axes>"
      ]
     },
     "metadata": {},
     "output_type": "display_data"
    }
   ],
   "source": [
    "# 7. Rating vs Time (if timestamp is relevant):\n",
    "ratings_df['datetime'] = pd.to_datetime(ratings_df['timestamp'], unit='s')\n",
    "ratings_over_time = ratings_df.groupby(ratings_df['datetime'].dt.date)['rating'].mean()\n",
    "print(\"Average Ratings Over Time (sample):\\n\", ratings_over_time.head())\n",
    "\n",
    "plt.figure(figsize=(12, 6))\n",
    "plt.plot(ratings_over_time.index, ratings_over_time.values, color='mediumblue', linewidth=2.5)\n",
    "plt.title('Average Rating Over Time', fontsize=14, fontweight='bold', color='darkcyan')\n",
    "plt.xlabel('Date', fontsize=12, fontweight='bold', color='darkred')\n",
    "plt.ylabel('Average Rating', fontsize=12, fontweight='bold', color='darkred')\n",
    "plt.xticks(rotation=45)\n",
    "plt.tight_layout()\n",
    "plt.gca().set_facecolor('#f0faff')\n",
    "plt.show()\n"
   ]
  },
  {
   "cell_type": "markdown",
   "metadata": {
    "id": "YQ1Yn-6c3QCL"
   },
   "source": [
    "# **4. 📐 Feature Engineering**\n",
    "\n",
    "- Create new features from your existing data to improve your recommendation system.\n",
    "- **Combine Movie Features:** Combine the movie's genre, director, and starring actors into a single text string. This will be used for content-based filtering."
   ]
  },
  {
   "cell_type": "code",
   "execution_count": 44,
   "metadata": {
    "id": "3zKcyz0U1Edg"
   },
   "outputs": [],
   "source": [
    "# Create a combined feature for content-based filtering\n",
    "movies_df['combined_features'] = movies_df['genres'] + ' ' + movies_df['director'] + ' ' + movies_df['starring']\n",
    "movies_df['combined_features'] = movies_df['combined_features'].fillna('')  #Handle any potential NaN after concatenation.\n"
   ]
  },
  {
   "cell_type": "markdown",
   "metadata": {
    "id": "3rph6c0y3ZK0"
   },
   "source": [
    "# **5. 🔀 Split the Data**\n",
    "\n",
    "- **Split your ratings data into two sets:** a training set and a testing set. We use the training set to train our recommendation system and the testing set to evaluate how well it works.\n",
    "\n",
    "\n"
   ]
  },
  {
   "cell_type": "code",
   "execution_count": 45,
   "metadata": {
    "id": "eo3Dnpve1Rdu"
   },
   "outputs": [],
   "source": [
    "#Splitting data and keeping original data frames.\n",
    "train_data, test_data = train_test_split(ratings_df, test_size=0.2, random_state=42)\n"
   ]
  },
  {
   "cell_type": "markdown",
   "metadata": {
    "id": "WAnm3ZN23eFM"
   },
   "source": [
    "# **6. 🤖 Choose a Model &  7.🏋️ Train the Model**\n",
    "\n",
    "**Building Recommendation Models:**\n",
    "- **Content-Based Filtering:**\n",
    "   - **TF-IDF Vectorization:** Convert the combined movie features into a numerical representation using TF-IDF.\n",
    "   - **Cosine Similarity:** Calculate how similar each movie is to every other movie based on their TF-IDF vectors.\n",
    "   - **Recommendation Function:** Create a function that takes a movie title as input and returns a list of movies that are most similar to that movie.\n"
   ]
  },
  {
   "cell_type": "code",
   "execution_count": 46,
   "metadata": {
    "id": "P7mUaZbN1j52"
   },
   "outputs": [],
   "source": [
    "# --- Choose a Model & Train & Evaluate ---\n",
    "\n",
    "# --- Content-Based Filtering ---\n",
    "\n",
    "# 1.  TF-IDF Vectorization:\n",
    "tfidf_vectorizer = TfidfVectorizer(stop_words='english')\n",
    "tfidf_matrix = tfidf_vectorizer.fit_transform(movies_df['combined_features'])\n",
    "\n",
    "# 2. Cosine Similarity:\n",
    "cosine_sim = linear_kernel(tfidf_matrix, tfidf_matrix)\n",
    "\n",
    "# 3. Recommendation Function:\n",
    "\n",
    "def content_based_recommendations(movie_title, cosine_sim=cosine_sim, movies_df=movies_df, n=10):\n",
    "    \"\"\"\n",
    "    Recommends movies based on content similarity.\n",
    "\n",
    "    Args:\n",
    "        movie_title (str): The title of the movie to base recommendations on.\n",
    "        cosine_sim (array): Cosine similarity matrix.\n",
    "        movies_df (DataFrame): The movies DataFrame.\n",
    "        n (int): The number of recommendations to return.\n",
    "\n",
    "    Returns:\n",
    "        DataFrame: DataFrame of recommended movies.\n",
    "    \"\"\"\n",
    "    try:\n",
    "        idx = movies_df[movies_df['title'] == movie_title].index[0]\n",
    "    except IndexError:\n",
    "        return \"Movie not found.\"  # Handle case where movie title doesn't exist\n",
    "\n",
    "    sim_scores = list(enumerate(cosine_sim[idx]))\n",
    "    sim_scores = sorted(sim_scores, key=lambda x: x[1], reverse=True)\n",
    "    sim_scores = sim_scores[1:n+1]  # Exclude the movie itself\n",
    "    movie_indices = [i[0] for i in sim_scores]\n",
    "    return movies_df['title'].iloc[movie_indices]\n",
    "\n"
   ]
  },
  {
   "cell_type": "markdown",
   "metadata": {
    "id": "K85GSPxX2MG1"
   },
   "source": [
    "- **Collaborative Filtering (Memory-Based):**\n",
    "  - **User-Item Matrix:** Create a matrix where each row represents a user, each column represents a movie, and each cell contains the rating that the user gave to that movie (fill in missing ratings with 0).\n",
    "  - **Sparsity Handling:** Convert the user-item matrix to a sparse matrix format to save memory and speed up calculations.\n",
    "  - **K-Nearest Neighbors Model:** Train a KNN model to find users who are similar to each other based on their movie ratings.\n",
    "  - **Recommendation Function:** Create a function that takes a user ID as input and returns a list of movies that the user might like, based on the ratings of similar users."
   ]
  },
  {
   "cell_type": "code",
   "execution_count": 48,
   "metadata": {
    "colab": {
     "base_uri": "https://localhost:8080/",
     "height": 80
    },
    "id": "12aq-iHI2qsG",
    "outputId": "28b249ed-1bf1-4c07-83e0-3c2644b60aa7"
   },
   "outputs": [
    {
     "data": {
      "text/html": [
       "<style>#sk-container-id-2 {\n",
       "  /* Definition of color scheme common for light and dark mode */\n",
       "  --sklearn-color-text: #000;\n",
       "  --sklearn-color-text-muted: #666;\n",
       "  --sklearn-color-line: gray;\n",
       "  /* Definition of color scheme for unfitted estimators */\n",
       "  --sklearn-color-unfitted-level-0: #fff5e6;\n",
       "  --sklearn-color-unfitted-level-1: #f6e4d2;\n",
       "  --sklearn-color-unfitted-level-2: #ffe0b3;\n",
       "  --sklearn-color-unfitted-level-3: chocolate;\n",
       "  /* Definition of color scheme for fitted estimators */\n",
       "  --sklearn-color-fitted-level-0: #f0f8ff;\n",
       "  --sklearn-color-fitted-level-1: #d4ebff;\n",
       "  --sklearn-color-fitted-level-2: #b3dbfd;\n",
       "  --sklearn-color-fitted-level-3: cornflowerblue;\n",
       "\n",
       "  /* Specific color for light theme */\n",
       "  --sklearn-color-text-on-default-background: var(--sg-text-color, var(--theme-code-foreground, var(--jp-content-font-color1, black)));\n",
       "  --sklearn-color-background: var(--sg-background-color, var(--theme-background, var(--jp-layout-color0, white)));\n",
       "  --sklearn-color-border-box: var(--sg-text-color, var(--theme-code-foreground, var(--jp-content-font-color1, black)));\n",
       "  --sklearn-color-icon: #696969;\n",
       "\n",
       "  @media (prefers-color-scheme: dark) {\n",
       "    /* Redefinition of color scheme for dark theme */\n",
       "    --sklearn-color-text-on-default-background: var(--sg-text-color, var(--theme-code-foreground, var(--jp-content-font-color1, white)));\n",
       "    --sklearn-color-background: var(--sg-background-color, var(--theme-background, var(--jp-layout-color0, #111)));\n",
       "    --sklearn-color-border-box: var(--sg-text-color, var(--theme-code-foreground, var(--jp-content-font-color1, white)));\n",
       "    --sklearn-color-icon: #878787;\n",
       "  }\n",
       "}\n",
       "\n",
       "#sk-container-id-2 {\n",
       "  color: var(--sklearn-color-text);\n",
       "}\n",
       "\n",
       "#sk-container-id-2 pre {\n",
       "  padding: 0;\n",
       "}\n",
       "\n",
       "#sk-container-id-2 input.sk-hidden--visually {\n",
       "  border: 0;\n",
       "  clip: rect(1px 1px 1px 1px);\n",
       "  clip: rect(1px, 1px, 1px, 1px);\n",
       "  height: 1px;\n",
       "  margin: -1px;\n",
       "  overflow: hidden;\n",
       "  padding: 0;\n",
       "  position: absolute;\n",
       "  width: 1px;\n",
       "}\n",
       "\n",
       "#sk-container-id-2 div.sk-dashed-wrapped {\n",
       "  border: 1px dashed var(--sklearn-color-line);\n",
       "  margin: 0 0.4em 0.5em 0.4em;\n",
       "  box-sizing: border-box;\n",
       "  padding-bottom: 0.4em;\n",
       "  background-color: var(--sklearn-color-background);\n",
       "}\n",
       "\n",
       "#sk-container-id-2 div.sk-container {\n",
       "  /* jupyter's `normalize.less` sets `[hidden] { display: none; }`\n",
       "     but bootstrap.min.css set `[hidden] { display: none !important; }`\n",
       "     so we also need the `!important` here to be able to override the\n",
       "     default hidden behavior on the sphinx rendered scikit-learn.org.\n",
       "     See: https://github.com/scikit-learn/scikit-learn/issues/21755 */\n",
       "  display: inline-block !important;\n",
       "  position: relative;\n",
       "}\n",
       "\n",
       "#sk-container-id-2 div.sk-text-repr-fallback {\n",
       "  display: none;\n",
       "}\n",
       "\n",
       "div.sk-parallel-item,\n",
       "div.sk-serial,\n",
       "div.sk-item {\n",
       "  /* draw centered vertical line to link estimators */\n",
       "  background-image: linear-gradient(var(--sklearn-color-text-on-default-background), var(--sklearn-color-text-on-default-background));\n",
       "  background-size: 2px 100%;\n",
       "  background-repeat: no-repeat;\n",
       "  background-position: center center;\n",
       "}\n",
       "\n",
       "/* Parallel-specific style estimator block */\n",
       "\n",
       "#sk-container-id-2 div.sk-parallel-item::after {\n",
       "  content: \"\";\n",
       "  width: 100%;\n",
       "  border-bottom: 2px solid var(--sklearn-color-text-on-default-background);\n",
       "  flex-grow: 1;\n",
       "}\n",
       "\n",
       "#sk-container-id-2 div.sk-parallel {\n",
       "  display: flex;\n",
       "  align-items: stretch;\n",
       "  justify-content: center;\n",
       "  background-color: var(--sklearn-color-background);\n",
       "  position: relative;\n",
       "}\n",
       "\n",
       "#sk-container-id-2 div.sk-parallel-item {\n",
       "  display: flex;\n",
       "  flex-direction: column;\n",
       "}\n",
       "\n",
       "#sk-container-id-2 div.sk-parallel-item:first-child::after {\n",
       "  align-self: flex-end;\n",
       "  width: 50%;\n",
       "}\n",
       "\n",
       "#sk-container-id-2 div.sk-parallel-item:last-child::after {\n",
       "  align-self: flex-start;\n",
       "  width: 50%;\n",
       "}\n",
       "\n",
       "#sk-container-id-2 div.sk-parallel-item:only-child::after {\n",
       "  width: 0;\n",
       "}\n",
       "\n",
       "/* Serial-specific style estimator block */\n",
       "\n",
       "#sk-container-id-2 div.sk-serial {\n",
       "  display: flex;\n",
       "  flex-direction: column;\n",
       "  align-items: center;\n",
       "  background-color: var(--sklearn-color-background);\n",
       "  padding-right: 1em;\n",
       "  padding-left: 1em;\n",
       "}\n",
       "\n",
       "\n",
       "/* Toggleable style: style used for estimator/Pipeline/ColumnTransformer box that is\n",
       "clickable and can be expanded/collapsed.\n",
       "- Pipeline and ColumnTransformer use this feature and define the default style\n",
       "- Estimators will overwrite some part of the style using the `sk-estimator` class\n",
       "*/\n",
       "\n",
       "/* Pipeline and ColumnTransformer style (default) */\n",
       "\n",
       "#sk-container-id-2 div.sk-toggleable {\n",
       "  /* Default theme specific background. It is overwritten whether we have a\n",
       "  specific estimator or a Pipeline/ColumnTransformer */\n",
       "  background-color: var(--sklearn-color-background);\n",
       "}\n",
       "\n",
       "/* Toggleable label */\n",
       "#sk-container-id-2 label.sk-toggleable__label {\n",
       "  cursor: pointer;\n",
       "  display: flex;\n",
       "  width: 100%;\n",
       "  margin-bottom: 0;\n",
       "  padding: 0.5em;\n",
       "  box-sizing: border-box;\n",
       "  text-align: center;\n",
       "  align-items: start;\n",
       "  justify-content: space-between;\n",
       "  gap: 0.5em;\n",
       "}\n",
       "\n",
       "#sk-container-id-2 label.sk-toggleable__label .caption {\n",
       "  font-size: 0.6rem;\n",
       "  font-weight: lighter;\n",
       "  color: var(--sklearn-color-text-muted);\n",
       "}\n",
       "\n",
       "#sk-container-id-2 label.sk-toggleable__label-arrow:before {\n",
       "  /* Arrow on the left of the label */\n",
       "  content: \"▸\";\n",
       "  float: left;\n",
       "  margin-right: 0.25em;\n",
       "  color: var(--sklearn-color-icon);\n",
       "}\n",
       "\n",
       "#sk-container-id-2 label.sk-toggleable__label-arrow:hover:before {\n",
       "  color: var(--sklearn-color-text);\n",
       "}\n",
       "\n",
       "/* Toggleable content - dropdown */\n",
       "\n",
       "#sk-container-id-2 div.sk-toggleable__content {\n",
       "  display: none;\n",
       "  text-align: left;\n",
       "  /* unfitted */\n",
       "  background-color: var(--sklearn-color-unfitted-level-0);\n",
       "}\n",
       "\n",
       "#sk-container-id-2 div.sk-toggleable__content.fitted {\n",
       "  /* fitted */\n",
       "  background-color: var(--sklearn-color-fitted-level-0);\n",
       "}\n",
       "\n",
       "#sk-container-id-2 div.sk-toggleable__content pre {\n",
       "  margin: 0.2em;\n",
       "  border-radius: 0.25em;\n",
       "  color: var(--sklearn-color-text);\n",
       "  /* unfitted */\n",
       "  background-color: var(--sklearn-color-unfitted-level-0);\n",
       "}\n",
       "\n",
       "#sk-container-id-2 div.sk-toggleable__content.fitted pre {\n",
       "  /* unfitted */\n",
       "  background-color: var(--sklearn-color-fitted-level-0);\n",
       "}\n",
       "\n",
       "#sk-container-id-2 input.sk-toggleable__control:checked~div.sk-toggleable__content {\n",
       "  /* Expand drop-down */\n",
       "  display: block;\n",
       "  width: 100%;\n",
       "  overflow: visible;\n",
       "}\n",
       "\n",
       "#sk-container-id-2 input.sk-toggleable__control:checked~label.sk-toggleable__label-arrow:before {\n",
       "  content: \"▾\";\n",
       "}\n",
       "\n",
       "/* Pipeline/ColumnTransformer-specific style */\n",
       "\n",
       "#sk-container-id-2 div.sk-label input.sk-toggleable__control:checked~label.sk-toggleable__label {\n",
       "  color: var(--sklearn-color-text);\n",
       "  background-color: var(--sklearn-color-unfitted-level-2);\n",
       "}\n",
       "\n",
       "#sk-container-id-2 div.sk-label.fitted input.sk-toggleable__control:checked~label.sk-toggleable__label {\n",
       "  background-color: var(--sklearn-color-fitted-level-2);\n",
       "}\n",
       "\n",
       "/* Estimator-specific style */\n",
       "\n",
       "/* Colorize estimator box */\n",
       "#sk-container-id-2 div.sk-estimator input.sk-toggleable__control:checked~label.sk-toggleable__label {\n",
       "  /* unfitted */\n",
       "  background-color: var(--sklearn-color-unfitted-level-2);\n",
       "}\n",
       "\n",
       "#sk-container-id-2 div.sk-estimator.fitted input.sk-toggleable__control:checked~label.sk-toggleable__label {\n",
       "  /* fitted */\n",
       "  background-color: var(--sklearn-color-fitted-level-2);\n",
       "}\n",
       "\n",
       "#sk-container-id-2 div.sk-label label.sk-toggleable__label,\n",
       "#sk-container-id-2 div.sk-label label {\n",
       "  /* The background is the default theme color */\n",
       "  color: var(--sklearn-color-text-on-default-background);\n",
       "}\n",
       "\n",
       "/* On hover, darken the color of the background */\n",
       "#sk-container-id-2 div.sk-label:hover label.sk-toggleable__label {\n",
       "  color: var(--sklearn-color-text);\n",
       "  background-color: var(--sklearn-color-unfitted-level-2);\n",
       "}\n",
       "\n",
       "/* Label box, darken color on hover, fitted */\n",
       "#sk-container-id-2 div.sk-label.fitted:hover label.sk-toggleable__label.fitted {\n",
       "  color: var(--sklearn-color-text);\n",
       "  background-color: var(--sklearn-color-fitted-level-2);\n",
       "}\n",
       "\n",
       "/* Estimator label */\n",
       "\n",
       "#sk-container-id-2 div.sk-label label {\n",
       "  font-family: monospace;\n",
       "  font-weight: bold;\n",
       "  display: inline-block;\n",
       "  line-height: 1.2em;\n",
       "}\n",
       "\n",
       "#sk-container-id-2 div.sk-label-container {\n",
       "  text-align: center;\n",
       "}\n",
       "\n",
       "/* Estimator-specific */\n",
       "#sk-container-id-2 div.sk-estimator {\n",
       "  font-family: monospace;\n",
       "  border: 1px dotted var(--sklearn-color-border-box);\n",
       "  border-radius: 0.25em;\n",
       "  box-sizing: border-box;\n",
       "  margin-bottom: 0.5em;\n",
       "  /* unfitted */\n",
       "  background-color: var(--sklearn-color-unfitted-level-0);\n",
       "}\n",
       "\n",
       "#sk-container-id-2 div.sk-estimator.fitted {\n",
       "  /* fitted */\n",
       "  background-color: var(--sklearn-color-fitted-level-0);\n",
       "}\n",
       "\n",
       "/* on hover */\n",
       "#sk-container-id-2 div.sk-estimator:hover {\n",
       "  /* unfitted */\n",
       "  background-color: var(--sklearn-color-unfitted-level-2);\n",
       "}\n",
       "\n",
       "#sk-container-id-2 div.sk-estimator.fitted:hover {\n",
       "  /* fitted */\n",
       "  background-color: var(--sklearn-color-fitted-level-2);\n",
       "}\n",
       "\n",
       "/* Specification for estimator info (e.g. \"i\" and \"?\") */\n",
       "\n",
       "/* Common style for \"i\" and \"?\" */\n",
       "\n",
       ".sk-estimator-doc-link,\n",
       "a:link.sk-estimator-doc-link,\n",
       "a:visited.sk-estimator-doc-link {\n",
       "  float: right;\n",
       "  font-size: smaller;\n",
       "  line-height: 1em;\n",
       "  font-family: monospace;\n",
       "  background-color: var(--sklearn-color-background);\n",
       "  border-radius: 1em;\n",
       "  height: 1em;\n",
       "  width: 1em;\n",
       "  text-decoration: none !important;\n",
       "  margin-left: 0.5em;\n",
       "  text-align: center;\n",
       "  /* unfitted */\n",
       "  border: var(--sklearn-color-unfitted-level-1) 1pt solid;\n",
       "  color: var(--sklearn-color-unfitted-level-1);\n",
       "}\n",
       "\n",
       ".sk-estimator-doc-link.fitted,\n",
       "a:link.sk-estimator-doc-link.fitted,\n",
       "a:visited.sk-estimator-doc-link.fitted {\n",
       "  /* fitted */\n",
       "  border: var(--sklearn-color-fitted-level-1) 1pt solid;\n",
       "  color: var(--sklearn-color-fitted-level-1);\n",
       "}\n",
       "\n",
       "/* On hover */\n",
       "div.sk-estimator:hover .sk-estimator-doc-link:hover,\n",
       ".sk-estimator-doc-link:hover,\n",
       "div.sk-label-container:hover .sk-estimator-doc-link:hover,\n",
       ".sk-estimator-doc-link:hover {\n",
       "  /* unfitted */\n",
       "  background-color: var(--sklearn-color-unfitted-level-3);\n",
       "  color: var(--sklearn-color-background);\n",
       "  text-decoration: none;\n",
       "}\n",
       "\n",
       "div.sk-estimator.fitted:hover .sk-estimator-doc-link.fitted:hover,\n",
       ".sk-estimator-doc-link.fitted:hover,\n",
       "div.sk-label-container:hover .sk-estimator-doc-link.fitted:hover,\n",
       ".sk-estimator-doc-link.fitted:hover {\n",
       "  /* fitted */\n",
       "  background-color: var(--sklearn-color-fitted-level-3);\n",
       "  color: var(--sklearn-color-background);\n",
       "  text-decoration: none;\n",
       "}\n",
       "\n",
       "/* Span, style for the box shown on hovering the info icon */\n",
       ".sk-estimator-doc-link span {\n",
       "  display: none;\n",
       "  z-index: 9999;\n",
       "  position: relative;\n",
       "  font-weight: normal;\n",
       "  right: .2ex;\n",
       "  padding: .5ex;\n",
       "  margin: .5ex;\n",
       "  width: min-content;\n",
       "  min-width: 20ex;\n",
       "  max-width: 50ex;\n",
       "  color: var(--sklearn-color-text);\n",
       "  box-shadow: 2pt 2pt 4pt #999;\n",
       "  /* unfitted */\n",
       "  background: var(--sklearn-color-unfitted-level-0);\n",
       "  border: .5pt solid var(--sklearn-color-unfitted-level-3);\n",
       "}\n",
       "\n",
       ".sk-estimator-doc-link.fitted span {\n",
       "  /* fitted */\n",
       "  background: var(--sklearn-color-fitted-level-0);\n",
       "  border: var(--sklearn-color-fitted-level-3);\n",
       "}\n",
       "\n",
       ".sk-estimator-doc-link:hover span {\n",
       "  display: block;\n",
       "}\n",
       "\n",
       "/* \"?\"-specific style due to the `<a>` HTML tag */\n",
       "\n",
       "#sk-container-id-2 a.estimator_doc_link {\n",
       "  float: right;\n",
       "  font-size: 1rem;\n",
       "  line-height: 1em;\n",
       "  font-family: monospace;\n",
       "  background-color: var(--sklearn-color-background);\n",
       "  border-radius: 1rem;\n",
       "  height: 1rem;\n",
       "  width: 1rem;\n",
       "  text-decoration: none;\n",
       "  /* unfitted */\n",
       "  color: var(--sklearn-color-unfitted-level-1);\n",
       "  border: var(--sklearn-color-unfitted-level-1) 1pt solid;\n",
       "}\n",
       "\n",
       "#sk-container-id-2 a.estimator_doc_link.fitted {\n",
       "  /* fitted */\n",
       "  border: var(--sklearn-color-fitted-level-1) 1pt solid;\n",
       "  color: var(--sklearn-color-fitted-level-1);\n",
       "}\n",
       "\n",
       "/* On hover */\n",
       "#sk-container-id-2 a.estimator_doc_link:hover {\n",
       "  /* unfitted */\n",
       "  background-color: var(--sklearn-color-unfitted-level-3);\n",
       "  color: var(--sklearn-color-background);\n",
       "  text-decoration: none;\n",
       "}\n",
       "\n",
       "#sk-container-id-2 a.estimator_doc_link.fitted:hover {\n",
       "  /* fitted */\n",
       "  background-color: var(--sklearn-color-fitted-level-3);\n",
       "}\n",
       "\n",
       ".estimator-table summary {\n",
       "    padding: .5rem;\n",
       "    font-family: monospace;\n",
       "    cursor: pointer;\n",
       "}\n",
       "\n",
       ".estimator-table details[open] {\n",
       "    padding-left: 0.1rem;\n",
       "    padding-right: 0.1rem;\n",
       "    padding-bottom: 0.3rem;\n",
       "}\n",
       "\n",
       ".estimator-table .parameters-table {\n",
       "    margin-left: auto !important;\n",
       "    margin-right: auto !important;\n",
       "}\n",
       "\n",
       ".estimator-table .parameters-table tr:nth-child(odd) {\n",
       "    background-color: #fff;\n",
       "}\n",
       "\n",
       ".estimator-table .parameters-table tr:nth-child(even) {\n",
       "    background-color: #f6f6f6;\n",
       "}\n",
       "\n",
       ".estimator-table .parameters-table tr:hover {\n",
       "    background-color: #e0e0e0;\n",
       "}\n",
       "\n",
       ".estimator-table table td {\n",
       "    border: 1px solid rgba(106, 105, 104, 0.232);\n",
       "}\n",
       "\n",
       ".user-set td {\n",
       "    color:rgb(255, 94, 0);\n",
       "    text-align: left;\n",
       "}\n",
       "\n",
       ".user-set td.value pre {\n",
       "    color:rgb(255, 94, 0) !important;\n",
       "    background-color: transparent !important;\n",
       "}\n",
       "\n",
       ".default td {\n",
       "    color: black;\n",
       "    text-align: left;\n",
       "}\n",
       "\n",
       ".user-set td i,\n",
       ".default td i {\n",
       "    color: black;\n",
       "}\n",
       "\n",
       ".copy-paste-icon {\n",
       "    background-image: url(data:image/svg+xml;base64,PHN2ZyB4bWxucz0iaHR0cDovL3d3dy53My5vcmcvMjAwMC9zdmciIHZpZXdCb3g9IjAgMCA0NDggNTEyIj48IS0tIUZvbnQgQXdlc29tZSBGcmVlIDYuNy4yIGJ5IEBmb250YXdlc29tZSAtIGh0dHBzOi8vZm9udGF3ZXNvbWUuY29tIExpY2Vuc2UgLSBodHRwczovL2ZvbnRhd2Vzb21lLmNvbS9saWNlbnNlL2ZyZWUgQ29weXJpZ2h0IDIwMjUgRm9udGljb25zLCBJbmMuLS0+PHBhdGggZD0iTTIwOCAwTDMzMi4xIDBjMTIuNyAwIDI0LjkgNS4xIDMzLjkgMTQuMWw2Ny45IDY3LjljOSA5IDE0LjEgMjEuMiAxNC4xIDMzLjlMNDQ4IDMzNmMwIDI2LjUtMjEuNSA0OC00OCA0OGwtMTkyIDBjLTI2LjUgMC00OC0yMS41LTQ4LTQ4bDAtMjg4YzAtMjYuNSAyMS41LTQ4IDQ4LTQ4ek00OCAxMjhsODAgMCAwIDY0LTY0IDAgMCAyNTYgMTkyIDAgMC0zMiA2NCAwIDAgNDhjMCAyNi41LTIxLjUgNDgtNDggNDhMNDggNTEyYy0yNi41IDAtNDgtMjEuNS00OC00OEwwIDE3NmMwLTI2LjUgMjEuNS00OCA0OC00OHoiLz48L3N2Zz4=);\n",
       "    background-repeat: no-repeat;\n",
       "    background-size: 14px 14px;\n",
       "    background-position: 0;\n",
       "    display: inline-block;\n",
       "    width: 14px;\n",
       "    height: 14px;\n",
       "    cursor: pointer;\n",
       "}\n",
       "</style><body><div id=\"sk-container-id-2\" class=\"sk-top-container\"><div class=\"sk-text-repr-fallback\"><pre>NearestNeighbors(algorithm=&#x27;brute&#x27;, metric=&#x27;cosine&#x27;)</pre><b>In a Jupyter environment, please rerun this cell to show the HTML representation or trust the notebook. <br />On GitHub, the HTML representation is unable to render, please try loading this page with nbviewer.org.</b></div><div class=\"sk-container\" hidden><div class=\"sk-item\"><div class=\"sk-estimator fitted sk-toggleable\"><input class=\"sk-toggleable__control sk-hidden--visually\" id=\"sk-estimator-id-2\" type=\"checkbox\" checked><label for=\"sk-estimator-id-2\" class=\"sk-toggleable__label fitted sk-toggleable__label-arrow\"><div><div>NearestNeighbors</div></div><div><a class=\"sk-estimator-doc-link fitted\" rel=\"noreferrer\" target=\"_blank\" href=\"https://scikit-learn.org/1.7/modules/generated/sklearn.neighbors.NearestNeighbors.html\">?<span>Documentation for NearestNeighbors</span></a><span class=\"sk-estimator-doc-link fitted\">i<span>Fitted</span></span></div></label><div class=\"sk-toggleable__content fitted\" data-param-prefix=\"\">\n",
       "        <div class=\"estimator-table\">\n",
       "            <details>\n",
       "                <summary>Parameters</summary>\n",
       "                <table class=\"parameters-table\">\n",
       "                  <tbody>\n",
       "                    \n",
       "        <tr class=\"default\">\n",
       "            <td><i class=\"copy-paste-icon\"\n",
       "                 onclick=\"copyToClipboard('n_neighbors',\n",
       "                          this.parentElement.nextElementSibling)\"\n",
       "            ></i></td>\n",
       "            <td class=\"param\">n_neighbors&nbsp;</td>\n",
       "            <td class=\"value\">5</td>\n",
       "        </tr>\n",
       "    \n",
       "\n",
       "        <tr class=\"default\">\n",
       "            <td><i class=\"copy-paste-icon\"\n",
       "                 onclick=\"copyToClipboard('radius',\n",
       "                          this.parentElement.nextElementSibling)\"\n",
       "            ></i></td>\n",
       "            <td class=\"param\">radius&nbsp;</td>\n",
       "            <td class=\"value\">1.0</td>\n",
       "        </tr>\n",
       "    \n",
       "\n",
       "        <tr class=\"user-set\">\n",
       "            <td><i class=\"copy-paste-icon\"\n",
       "                 onclick=\"copyToClipboard('algorithm',\n",
       "                          this.parentElement.nextElementSibling)\"\n",
       "            ></i></td>\n",
       "            <td class=\"param\">algorithm&nbsp;</td>\n",
       "            <td class=\"value\">&#x27;brute&#x27;</td>\n",
       "        </tr>\n",
       "    \n",
       "\n",
       "        <tr class=\"default\">\n",
       "            <td><i class=\"copy-paste-icon\"\n",
       "                 onclick=\"copyToClipboard('leaf_size',\n",
       "                          this.parentElement.nextElementSibling)\"\n",
       "            ></i></td>\n",
       "            <td class=\"param\">leaf_size&nbsp;</td>\n",
       "            <td class=\"value\">30</td>\n",
       "        </tr>\n",
       "    \n",
       "\n",
       "        <tr class=\"user-set\">\n",
       "            <td><i class=\"copy-paste-icon\"\n",
       "                 onclick=\"copyToClipboard('metric',\n",
       "                          this.parentElement.nextElementSibling)\"\n",
       "            ></i></td>\n",
       "            <td class=\"param\">metric&nbsp;</td>\n",
       "            <td class=\"value\">&#x27;cosine&#x27;</td>\n",
       "        </tr>\n",
       "    \n",
       "\n",
       "        <tr class=\"default\">\n",
       "            <td><i class=\"copy-paste-icon\"\n",
       "                 onclick=\"copyToClipboard('p',\n",
       "                          this.parentElement.nextElementSibling)\"\n",
       "            ></i></td>\n",
       "            <td class=\"param\">p&nbsp;</td>\n",
       "            <td class=\"value\">2</td>\n",
       "        </tr>\n",
       "    \n",
       "\n",
       "        <tr class=\"default\">\n",
       "            <td><i class=\"copy-paste-icon\"\n",
       "                 onclick=\"copyToClipboard('metric_params',\n",
       "                          this.parentElement.nextElementSibling)\"\n",
       "            ></i></td>\n",
       "            <td class=\"param\">metric_params&nbsp;</td>\n",
       "            <td class=\"value\">None</td>\n",
       "        </tr>\n",
       "    \n",
       "\n",
       "        <tr class=\"default\">\n",
       "            <td><i class=\"copy-paste-icon\"\n",
       "                 onclick=\"copyToClipboard('n_jobs',\n",
       "                          this.parentElement.nextElementSibling)\"\n",
       "            ></i></td>\n",
       "            <td class=\"param\">n_jobs&nbsp;</td>\n",
       "            <td class=\"value\">None</td>\n",
       "        </tr>\n",
       "    \n",
       "                  </tbody>\n",
       "                </table>\n",
       "            </details>\n",
       "        </div>\n",
       "    </div></div></div></div></div><script>function copyToClipboard(text, element) {\n",
       "    // Get the parameter prefix from the closest toggleable content\n",
       "    const toggleableContent = element.closest('.sk-toggleable__content');\n",
       "    const paramPrefix = toggleableContent ? toggleableContent.dataset.paramPrefix : '';\n",
       "    const fullParamName = paramPrefix ? `${paramPrefix}${text}` : text;\n",
       "\n",
       "    const originalStyle = element.style;\n",
       "    const computedStyle = window.getComputedStyle(element);\n",
       "    const originalWidth = computedStyle.width;\n",
       "    const originalHTML = element.innerHTML.replace('Copied!', '');\n",
       "\n",
       "    navigator.clipboard.writeText(fullParamName)\n",
       "        .then(() => {\n",
       "            element.style.width = originalWidth;\n",
       "            element.style.color = 'green';\n",
       "            element.innerHTML = \"Copied!\";\n",
       "\n",
       "            setTimeout(() => {\n",
       "                element.innerHTML = originalHTML;\n",
       "                element.style = originalStyle;\n",
       "            }, 2000);\n",
       "        })\n",
       "        .catch(err => {\n",
       "            console.error('Failed to copy:', err);\n",
       "            element.style.color = 'red';\n",
       "            element.innerHTML = \"Failed!\";\n",
       "            setTimeout(() => {\n",
       "                element.innerHTML = originalHTML;\n",
       "                element.style = originalStyle;\n",
       "            }, 2000);\n",
       "        });\n",
       "    return false;\n",
       "}\n",
       "\n",
       "document.querySelectorAll('.fa-regular.fa-copy').forEach(function(element) {\n",
       "    const toggleableContent = element.closest('.sk-toggleable__content');\n",
       "    const paramPrefix = toggleableContent ? toggleableContent.dataset.paramPrefix : '';\n",
       "    const paramName = element.parentElement.nextElementSibling.textContent.trim();\n",
       "    const fullParamName = paramPrefix ? `${paramPrefix}${paramName}` : paramName;\n",
       "\n",
       "    element.setAttribute('title', fullParamName);\n",
       "});\n",
       "</script></body>"
      ],
      "text/plain": [
       "NearestNeighbors(algorithm='brute', metric='cosine')"
      ]
     },
     "execution_count": 48,
     "metadata": {},
     "output_type": "execute_result"
    }
   ],
   "source": [
    "# --- Collaborative Filtering (Memory-Based) ---\n",
    "\n",
    "# 1.  User-Item Interaction Matrix:\n",
    "user_item_matrix = ratings_df.pivot_table(index='userId', columns='movieId', values='rating')\n",
    "\n",
    "# 2.  Sparsity Handling (Crucial for large datasets):\n",
    "user_item_matrix = user_item_matrix.fillna(0) #or some other strategy\n",
    "\n",
    "#Convert to sparse matrix for efficient computation\n",
    "user_item_matrix_sparse = csr_matrix(user_item_matrix)\n",
    "\n",
    "# 3.  K-Nearest Neighbors Model:\n",
    "knn_model = NearestNeighbors(metric='cosine', algorithm='brute') # or 'auto' or 'kd_tree'\n",
    "knn_model.fit(user_item_matrix_sparse)\n",
    "\n"
   ]
  },
  {
   "cell_type": "code",
   "execution_count": 49,
   "metadata": {
    "id": "YCmNyO9H24au"
   },
   "outputs": [],
   "source": [
    "# 4.  Collaborative Filtering Recommendation Function:\n",
    "def collaborative_recommendations(user_id, user_item_matrix=user_item_matrix, knn_model=knn_model, movies_df=movies_df, n=10):\n",
    "    \"\"\"\n",
    "    Recommends movies based on collaborative filtering.\n",
    "\n",
    "    Args:\n",
    "        user_id (int): The ID of the user to make recommendations for.\n",
    "        user_item_matrix (DataFrame): User-item interaction matrix.\n",
    "        knn_model (NearestNeighbors): Trained KNN model.\n",
    "        movies_df (DataFrame): The movies DataFrame.\n",
    "        n (int): The number of recommendations to return.\n",
    "\n",
    "    Returns:\n",
    "        DataFrame: DataFrame of recommended movies.\n",
    "    \"\"\"\n",
    "    try:\n",
    "        user_index = user_item_matrix.index.get_loc(user_id)  # Get index of the user\n",
    "    except KeyError:\n",
    "        return \"User not found.\"\n",
    "\n",
    "    distances, indices = knn_model.kneighbors(user_item_matrix.iloc[user_index,:].values.reshape(1, -1), n_neighbors=n+1) #+1 to exclude the user itself\n",
    "\n",
    "    similar_users = user_item_matrix.iloc[indices[0][1:], :]  #Exclude the first user which is the target user itself.\n",
    "\n",
    "    # Calculate the average rating of each movie by similar users\n",
    "    movie_ratings = similar_users.mean(axis=0)\n",
    "\n",
    "    #Remove movies already seen by the user.\n",
    "    movies_watched_by_user = user_item_matrix.iloc[user_index, :]\n",
    "    movie_ratings[movies_watched_by_user > 0] = -np.inf  # Set rating to -inf for already watched movies\n",
    "\n",
    "    #Get top N movie recommendations\n",
    "    top_movie_indices = movie_ratings.nlargest(n).index\n",
    "    top_movies = movies_df[movies_df['movieId'].isin(top_movie_indices)]['title']\n",
    "\n",
    "    return top_movies\n"
   ]
  },
  {
   "cell_type": "markdown",
   "metadata": {
    "id": "oQu7fyGb2cTC"
   },
   "source": [
    "- **Hybrid Approach:**\n",
    "  - Combine the results of content-based filtering and collaborative filtering to create a more accurate recommendation system.\n",
    "  - This may involve using weighted averages of the recommendations from each approach."
   ]
  },
  {
   "cell_type": "code",
   "execution_count": 50,
   "metadata": {
    "id": "fHWQ3knf2tBQ"
   },
   "outputs": [],
   "source": [
    "# --- Hybrid Approach (Illustrative) ---\n",
    "# Combine content-based and collaborative filtering.\n",
    "\n",
    "def hybrid_recommendations(user_id, movie_title, content_weight=0.5, collaborative_weight=0.5, n=10):\n",
    "    \"\"\"\n",
    "    Recommends movies using a hybrid approach.\n",
    "\n",
    "    Args:\n",
    "        user_id (int): The ID of the user.\n",
    "        movie_title (str): A movie title for content-based filtering.\n",
    "        content_weight (float): Weight for content-based recommendations.\n",
    "        collaborative_weight (float): Weight for collaborative recommendations.\n",
    "        n (int): The number of recommendations to return.\n",
    "\n",
    "    Returns:\n",
    "        list: A list of recommended movie titles.\n",
    "    \"\"\"\n",
    "    content_recs = content_based_recommendations(movie_title, n=n)\n",
    "    collaborative_recs = collaborative_recommendations(user_id, n=n)\n",
    "\n",
    "    #Handle cases where recommendation functions return errors.\n",
    "    if isinstance(content_recs, str): #Error case, movie not found.\n",
    "        print(\"Content-based filtering failed: \" + content_recs)\n",
    "        content_recs = pd.Series([]) # Empty series\n",
    "    if isinstance(collaborative_recs, str): #Error case, user not found.\n",
    "         print(\"Collaborative filtering failed: \" + collaborative_recs)\n",
    "         collaborative_recs = pd.Series([]) # Empty series\n",
    "\n",
    "\n",
    "    # Combine the recommendations (Illustrative example:  Concatenate and take top N)\n",
    "    combined_recs = pd.concat([content_recs, collaborative_recs]).head(n)\n",
    "\n",
    "    return combined_recs.tolist()"
   ]
  },
  {
   "cell_type": "markdown",
   "metadata": {
    "id": "wno-ARh_3dPa"
   },
   "source": [
    "## **8. 📈 Evaluate the Model**\n",
    "\n",
    "- Measure how well your recommendation system works. This usually involves calculating metrics like RMSE (Root Mean Squared Error).\n",
    "- Evaluate Collaborative filtering, we can evaluate the collaborative filtering model using Root Mean Squared Error (RMSE).\n",
    "- We can also evaluate our system by manually inspecting the recommendations it generates to see if they make sense."
   ]
  },
  {
   "cell_type": "code",
   "execution_count": 51,
   "metadata": {
    "id": "IvvczPer3NJT"
   },
   "outputs": [],
   "source": [
    "# --- Evaluate the Model ---\n",
    "# Evaluation is *critical*.  The methods used here are illustrative.\n",
    "# Real-world evaluation requires more rigorous offline and online testing.\n",
    "\n",
    "# **Example Evaluation (Simplified)**\n",
    "\n",
    "# 1.  Content-Based: Manually inspect recommendations for a few movies.\n",
    "# 2.  Collaborative:  For users in your test set, predict ratings and compare to actual.\n",
    "\n",
    "#Collaborative filtering evaluation using RMSE\n",
    "\n",
    "def evaluate_collaborative_filtering(test_data, user_item_matrix, knn_model):\n",
    "    \"\"\"\n",
    "    Evaluates the collaborative filtering model using Root Mean Squared Error (RMSE).\n",
    "\n",
    "    Args:\n",
    "        test_data (DataFrame): The test dataset containing user-movie ratings.\n",
    "        user_item_matrix (DataFrame): User-item interaction matrix.\n",
    "        knn_model (NearestNeighbors): Trained KNN model.\n",
    "\n",
    "    Returns:\n",
    "        float: RMSE value.\n",
    "    \"\"\"\n",
    "    predictions = []\n",
    "    actual_ratings = []\n",
    "\n",
    "    for index, row in test_data.iterrows():\n",
    "        user_id = row['userId']\n",
    "        movie_id = row['movieId']\n",
    "        actual_rating = row['rating']\n",
    "\n",
    "        try:\n",
    "            user_index = user_item_matrix.index.get_loc(user_id)\n",
    "            movie_index = user_item_matrix.columns.get_loc(movie_id) #Get the column index from the user_item_matrix column.\n",
    "\n",
    "            distances, indices = knn_model.kneighbors(user_item_matrix.iloc[user_index, :].values.reshape(1, -1), n_neighbors=6) # Use 6 neighbors (adjust as needed)\n",
    "\n",
    "            #Exclude the user themselves\n",
    "            similar_users = user_item_matrix.iloc[indices[0][1:],:]\n",
    "\n",
    "            #Get rating from similar users for this movie.\n",
    "            similar_user_ratings = similar_users[movie_id]\n",
    "            similar_user_ratings = similar_user_ratings[similar_user_ratings > 0]  # Consider only users who rated the movie\n",
    "\n",
    "            if not similar_user_ratings.empty:\n",
    "                predicted_rating = similar_user_ratings.mean()\n",
    "            else:\n",
    "                predicted_rating = user_item_matrix.iloc[user_index, :].mean() #If no similar user has rated the movie, use user's average rating\n",
    "\n",
    "\n",
    "        except KeyError: #If user or movie is not in the training data.\n",
    "            predicted_rating = user_item_matrix.values.mean() #overall average\n",
    "\n",
    "        predictions.append(predicted_rating)\n",
    "        actual_ratings.append(actual_rating)\n",
    "\n",
    "\n",
    "    rmse = np.sqrt(mean_squared_error(actual_ratings, predictions))\n",
    "    return rmse\n",
    "\n",
    "\n"
   ]
  },
  {
   "cell_type": "code",
   "execution_count": 52,
   "metadata": {
    "colab": {
     "base_uri": "https://localhost:8080/"
    },
    "id": "KOhDb7NJ4Oye",
    "outputId": "140a5c56-5eec-45f6-d7b4-04f165bad482"
   },
   "outputs": [
    {
     "name": "stdout",
     "output_type": "stream",
     "text": [
      "\n",
      "Content-Based Recommendations for 'SHUKLOPOKKHO':\n",
      "21                                AR THEKO NA DURE\n",
      "158                            Lal Katan Nil Dakat\n",
      "152                                         REDRUM\n",
      "146                                       YOUTUMOR\n",
      "218                                      Mohanagar\n",
      "231                                        Refugee\n",
      "80     MONTRI MOHODOYER AGOMON SHUBHECCHA SHAGOTOM\n",
      "119                 TARA TIN JON HE PRITHIBI BIDAY\n",
      "122                        TARA TIN JON TEA MASTER\n",
      "174                                           Bodh\n",
      "Name: title, dtype: object\n"
     ]
    }
   ],
   "source": [
    "# Content-Based Recommendations:\n",
    "print(\"\\nContent-Based Recommendations for 'SHUKLOPOKKHO':\")\n",
    "print(content_based_recommendations('SHUKLOPOKKHO'))"
   ]
  },
  {
   "cell_type": "code",
   "execution_count": 53,
   "metadata": {
    "colab": {
     "base_uri": "https://localhost:8080/"
    },
    "id": "6d7SReLn4Vmh",
    "outputId": "bb0da36c-d166-4f83-90c1-783e64e2e0a6"
   },
   "outputs": [
    {
     "name": "stdout",
     "output_type": "stream",
     "text": [
      "\n",
      "Collaborative Filtering Recommendations for User 1:\n",
      "113                  KHELAGHOR\n",
      "114                      DAHAN\n",
      "115                 JOAR BHATA\n",
      "116                ALOR MICHIL\n",
      "117    SERIOUS EKTA KOTHA ACHE\n",
      "118                       FAUL\n",
      "120               LOSS PROJECT\n",
      "123              TINER TALOWAR\n",
      "124                   MAYABOTI\n",
      "125                     ADHIAR\n",
      "Name: title, dtype: object\n"
     ]
    }
   ],
   "source": [
    "# Collaborative Filtering Recommendations:\n",
    "print(\"\\nCollaborative Filtering Recommendations for User 1:\")\n",
    "print(collaborative_recommendations(1))"
   ]
  },
  {
   "cell_type": "code",
   "execution_count": 54,
   "metadata": {
    "colab": {
     "base_uri": "https://localhost:8080/"
    },
    "id": "LjZ-EN7s4YUm",
    "outputId": "6a80da43-a4a6-4dc7-a3ee-bf463027db3d"
   },
   "outputs": [
    {
     "name": "stdout",
     "output_type": "stream",
     "text": [
      "\n",
      "Hybrid Recommendations for User 1 based on 'SHUKLOPOKKHO':\n",
      "['AR THEKO NA DURE', 'Lal Katan Nil Dakat', 'REDRUM', 'YOUTUMOR', 'Mohanagar', 'Refugee', 'MONTRI MOHODOYER AGOMON SHUBHECCHA SHAGOTOM', 'TARA TIN JON HE PRITHIBI BIDAY', 'TARA TIN JON TEA MASTER', 'Bodh']\n"
     ]
    }
   ],
   "source": [
    "# Hybrid Recommendations:\n",
    "print(\"\\nHybrid Recommendations for User 1 based on 'SHUKLOPOKKHO':\")\n",
    "print(hybrid_recommendations(1, 'SHUKLOPOKKHO'))"
   ]
  },
  {
   "cell_type": "code",
   "execution_count": 55,
   "metadata": {
    "colab": {
     "base_uri": "https://localhost:8080/"
    },
    "id": "B-BG8HL74DaM",
    "outputId": "2878125b-b337-43ec-f9f9-8048dd4e7b25"
   },
   "outputs": [
    {
     "name": "stdout",
     "output_type": "stream",
     "text": [
      "\n",
      "Collaborative Filtering RMSE: 1.0825871115584313\n"
     ]
    }
   ],
   "source": [
    "#Evaluate Collaborative filtering.\n",
    "rmse_score = evaluate_collaborative_filtering(test_data, user_item_matrix, knn_model)\n",
    "print(f\"\\nCollaborative Filtering RMSE: {rmse_score}\")\n"
   ]
  },
  {
   "cell_type": "markdown",
   "metadata": {
    "id": "HM8SbBoB3uB_"
   },
   "source": [
    "# **9. 🔧 Improve the Model**\n",
    "\n",
    "- Hyperparameter tuning for KNN (number of neighbors, metric)\n",
    "- Trying different collaborative filtering algorithms (e.g., SVD)\n",
    "- More sophisticated hybrid approaches (weighted averaging, stacking)\n",
    "- Feature engineering (e.g., using movie plot summaries if available)\n",
    "- Handling cold start problems (new users, new movies)\n",
    "- Regularization techniques\n",
    "\n",
    "\n",
    "### ***See it in the Movie Recommendation System_ Model Improvement.ipynb***"
   ]
  },
  {
   "cell_type": "markdown",
   "metadata": {
    "id": "cC3t8BCZ3zQT"
   },
   "source": [
    "# **10. 🚀 Deploy the Model (optional)**\n",
    "\n",
    "- This involves creating an API or application that uses the trained model\n",
    "- to generate recommendations in real-time.  "
   ]
  }
 ],
 "metadata": {
  "colab": {
   "authorship_tag": "ABX9TyPgNTFNmDLtl56KXcDYapLZ",
   "include_colab_link": true,
   "provenance": [],
   "toc_visible": true
  },
  "kernelspec": {
   "display_name": "ML (venv)",
   "language": "python",
   "name": "ml_env"
  },
  "language_info": {
   "codemirror_mode": {
    "name": "ipython",
    "version": 3
   },
   "file_extension": ".py",
   "mimetype": "text/x-python",
   "name": "python",
   "nbconvert_exporter": "python",
   "pygments_lexer": "ipython3",
   "version": "3.13.7"
  }
 },
 "nbformat": 4,
 "nbformat_minor": 4
}
