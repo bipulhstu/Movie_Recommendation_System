{
 "cells": [
  {
   "cell_type": "markdown",
   "metadata": {
    "id": "NLfJgvXLz32x"
   },
   "source": [
    "# **Project 6 : Movie Recommendation System_ Model Improvement**"
   ]
  },
  {
   "cell_type": "code",
   "execution_count": 1,
   "metadata": {
    "id": "Sax2uZbu8X_5"
   },
   "outputs": [],
   "source": [
    "import pandas as pd\n",
    "import numpy as np\n",
    "from sklearn.model_selection import train_test_split\n",
    "from sklearn.metrics import mean_squared_error\n",
    "from sklearn.feature_extraction.text import TfidfVectorizer\n",
    "from sklearn.metrics.pairwise import linear_kernel\n",
    "from sklearn.neighbors import NearestNeighbors\n",
    "from scipy.sparse import csr_matrix\n",
    "from sklearn.decomposition import TruncatedSVD\n",
    "import matplotlib.pyplot as plt\n",
    "import seaborn as sns"
   ]
  },
  {
   "cell_type": "markdown",
   "metadata": {
    "id": "QFdcngSKOhUU"
   },
   "source": [
    "## **📥 Download the Files**"
   ]
  },
  {
   "cell_type": "code",
   "execution_count": 2,
   "metadata": {
    "colab": {
     "base_uri": "https://localhost:8080/"
    },
    "id": "l83IT8kU1C3S",
    "outputId": "b2cf3885-2173-47eb-b31d-99fdb9396cd0"
   },
   "outputs": [
    {
     "name": "stderr",
     "output_type": "stream",
     "text": [
      "/Users/bipul/ML & AI Projects/venv/lib/python3.13/site-packages/tqdm/auto.py:21: TqdmWarning: IProgress not found. Please update jupyter and ipywidgets. See https://ipywidgets.readthedocs.io/en/stable/user_install.html\n",
      "  from .autonotebook import tqdm as notebook_tqdm\n"
     ]
    },
    {
     "name": "stdout",
     "output_type": "stream",
     "text": [
      "Path to dataset files: /Users/bipul/.cache/kagglehub/datasets/jocelyndumlao/bengali-movie-dataset/versions/1\n"
     ]
    }
   ],
   "source": [
    "import kagglehub\n",
    "\n",
    "# Download latest version\n",
    "path = kagglehub.dataset_download(\"jocelyndumlao/bengali-movie-dataset\")\n",
    "\n",
    "print(\"Path to dataset files:\", path)"
   ]
  },
  {
   "cell_type": "markdown",
   "metadata": {
    "id": "FygX9EzZOkjd"
   },
   "source": [
    "## **🗂️ Check Files in Subfolder**\n",
    "- To explore the subdirectory:"
   ]
  },
  {
   "cell_type": "code",
   "execution_count": 4,
   "metadata": {
    "colab": {
     "base_uri": "https://localhost:8080/"
    },
    "id": "bqF8MY5_Vlv7",
    "outputId": "06d1e8d8-f38b-41fe-feed-9ed06b10a7fa"
   },
   "outputs": [
    {
     "name": "stdout",
     "output_type": "stream",
     "text": [
      "Dataset directory: dataset\n",
      "Files in dataset directory: ['.DS_Store', 'ratings.csv', '.ipynb_checkpoints', 'movies.csv']\n"
     ]
    }
   ],
   "source": [
    "import os\n",
    "\n",
    "# Set the path to the local dataset directory\n",
    "dataset_path = \"dataset\"\n",
    "files = os.listdir(dataset_path)\n",
    "\n",
    "print(\"Dataset directory:\", dataset_path)\n",
    "print(\"Files in dataset directory:\", files)\n"
   ]
  },
  {
   "cell_type": "markdown",
   "metadata": {
    "id": "LHsEcJh4Ow74"
   },
   "source": [
    "## **📥 Read the CSV Files**\n",
    "\n",
    "Once you've confirmed the filenames inside the subfolder (movies.csv, ratings.csv)"
   ]
  },
  {
   "cell_type": "code",
   "execution_count": 6,
   "metadata": {
    "id": "YF7lGY9J4616"
   },
   "outputs": [],
   "source": [
    "movies_df = pd.read_csv(f\"{dataset_path}/movies.csv\")\n",
    "ratings_df = pd.read_csv(f\"{dataset_path}/ratings.csv\")"
   ]
  },
  {
   "cell_type": "code",
   "execution_count": 7,
   "metadata": {
    "id": "fDdYtr237PkI"
   },
   "outputs": [],
   "source": [
    "movies_df.rename(columns=lambda x: x.strip(), inplace=True)  # Strip all column names"
   ]
  },
  {
   "cell_type": "markdown",
   "metadata": {
    "id": "j2obT-85P3Xm"
   },
   "source": [
    "## **Data Preprocessing:**\n",
    "\n",
    "##  **🧹Clean Up Movie Data:**\n",
    "   - Fills in missing director names with \"Unknown\" to avoid errors.\n",
    "   - Fills in missing cast member (starring) names with \"Unknown\".\n",
    "   - Creates a combined text feature by merging genres, director, and cast information. This will be used for content based filtering.\n",
    "   - If the combined features had any missing data after combining, fill it with empty string"
   ]
  },
  {
   "cell_type": "code",
   "execution_count": 8,
   "metadata": {
    "id": "SW3JXjnRQepW"
   },
   "outputs": [],
   "source": [
    "# Preprocessing\n",
    "\n",
    "movies_df['director'] = movies_df['director'].fillna('Unknown')\n",
    "movies_df['starring'] = movies_df['starring'].fillna('Unknown')\n",
    "\n",
    "movies_df['combined_features'] = movies_df['genres'] + ' ' + movies_df['director'] + ' ' + movies_df['starring']\n",
    "movies_df['combined_features'] = movies_df['combined_features'].fillna('')\n"
   ]
  },
  {
   "cell_type": "markdown",
   "metadata": {
    "id": "lrDCxrh5Qp6A"
   },
   "source": [
    "## **🔀 Splitting Data:**\n",
    "- **Divide Ratings into Training and Testing:** Splits the movie ratings data into two sets: one for training the recommendation system (80%) and one for testing how well it works (20%). This helps evaluate the model's performance on unseen data."
   ]
  },
  {
   "cell_type": "code",
   "execution_count": 9,
   "metadata": {
    "id": "ZLQxEIMxQkBT"
   },
   "outputs": [],
   "source": [
    "train_data, test_data = train_test_split(ratings_df, test_size=0.2, random_state=42)"
   ]
  },
  {
   "cell_type": "markdown",
   "metadata": {
    "id": "fk6I-Gj0RBhc"
   },
   "source": [
    "## **Creating User-Item Matrix:**\n",
    "\n",
    "- **Transform Ratings into a Matrix:** Restructures the ratings data into a table where rows represent users, columns represent movies, and the values are the ratings users gave to those movies.\n",
    "- **Handle Missing Ratings:** Replaces missing ratings with zeros. This is a common way to deal with the fact that most users haven't rated most movies.\n",
    "- **Make the Matrix Efficient:** Converts the user-item matrix into a \"sparse matrix\" format. This is more memory-efficient because it only stores the non-zero ratings, which is important when dealing with large datasets."
   ]
  },
  {
   "cell_type": "code",
   "execution_count": 10,
   "metadata": {
    "id": "Tmj_EUbdRiCh"
   },
   "outputs": [],
   "source": [
    "user_item_matrix = ratings_df.pivot_table(index='userId', columns='movieId', values='rating')\n",
    "user_item_matrix = user_item_matrix.fillna(0)\n",
    "user_item_matrix_sparse = csr_matrix(user_item_matrix)"
   ]
  },
  {
   "cell_type": "markdown",
   "metadata": {
    "id": "drPmIbf9RrMU"
   },
   "source": [
    "## **KNN Hyperparameter Tuning:**\n",
    "- **Finding the Best Number of Neighbors for KNN:** A function to determine the optimal value for \"k\" (the number of neighbors) in the KNN algorithm.\n",
    "- **Test Different 'k' Values:** Loop through different values of 'k' to see which one gives the best recommendation results.\n",
    "- **Evaluate Each 'k':** For each 'k' value, calculate the RMSE (Root Mean Squared Error), which measures the difference between predicted ratings and actual ratings. Lower RMSE is better.\n",
    "- **Visualize Results:** Plot the RMSE values for each 'k' to help visually identify the best 'k'.\n",
    "- **Return the Best 'k':** The function returns the 'k' value that resulted in the lowest RMSE."
   ]
  },
  {
   "cell_type": "code",
   "execution_count": 11,
   "metadata": {
    "id": "UygOtPKBRj34"
   },
   "outputs": [],
   "source": [
    "#  Improve the Model\n",
    "\n",
    "# Hyperparameter Tuning for KNN (number of neighbors)\n",
    "\n",
    "def find_best_knn_params(user_item_matrix_sparse, train_data, test_data, k_values=range(5, 51, 5)):\n",
    "    \"\"\"\n",
    "    Tunes the number of neighbors (k) for KNN collaborative filtering.\n",
    "\n",
    "    Args:\n",
    "        user_item_matrix_sparse (csr_matrix): User-item interaction matrix (sparse).\n",
    "        train_data (DataFrame): Training data.\n",
    "        test_data (DataFrame): Testing data.\n",
    "        k_values (list): List of k values to test.\n",
    "\n",
    "    Returns:\n",
    "        dict: Dictionary containing best k and corresponding RMSE.\n",
    "    \"\"\"\n",
    "    rmse_values = []\n",
    "    for k in k_values:\n",
    "        knn_model = NearestNeighbors(metric='cosine', algorithm='brute', n_neighbors=k)\n",
    "        knn_model.fit(user_item_matrix_sparse)  # Pass the user_item_matrix to fit()\n",
    "        rmse = evaluate_collaborative_filtering(test_data, user_item_matrix_sparse, knn_model, user_item_matrix) #Pass original user_item_matrix\n",
    "        rmse_values.append(rmse)\n",
    "        print(f\"KNN with k={k}, RMSE={rmse}\")\n",
    "\n",
    "    best_k = k_values[np.argmin(rmse_values)]\n",
    "    best_rmse = min(rmse_values)\n",
    "\n",
    "    plt.plot(k_values, rmse_values, marker='o')\n",
    "    plt.xlabel('Number of Neighbors (k)')\n",
    "    plt.ylabel('RMSE')\n",
    "    plt.title('KNN Parameter Tuning')\n",
    "    plt.show()\n",
    "\n",
    "    return {'best_k': best_k, 'best_rmse': best_rmse}"
   ]
  },
  {
   "cell_type": "markdown",
   "metadata": {
    "id": "BqdM6gldSQ1F"
   },
   "source": [
    "## **Collaborative Filtering Evaluation with RMSE:**\n",
    "- **Evaluate the KNN Based Collaborative Filtering Model:** This function calculates how well the collaborative filtering model predicts movie ratings. It uses the Root Mean Squared Error (RMSE) to measure the difference between predicted ratings and actual ratings in the test data.\n",
    "- **Loop Through Test Data:** It iterates through each rating in the test data.\n",
    "- **Get Actual Rating:** Extracts the actual rating given by the user for the movie in the test data.\n",
    "- **Find Similar Users:** Uses the KNN model to find users who are most similar to the current user based on their past movie ratings.\n",
    "- **Predict Rating:** Based on the ratings of similar users, it calculates a predicted rating for the movie. If no similar user has rated a movie, it uses the average of the user's ratings.\n",
    "- **Calculate RMSE:** After predicting ratings for all movies in the test set, it calculates the RMSE to quantify the accuracy of the predictions."
   ]
  },
  {
   "cell_type": "code",
   "execution_count": 12,
   "metadata": {
    "colab": {
     "base_uri": "https://localhost:8080/",
     "height": 663
    },
    "id": "PBAPpUOzSQmj",
    "outputId": "92d07118-b331-4612-ef9d-77700ded29fa"
   },
   "outputs": [
    {
     "name": "stdout",
     "output_type": "stream",
     "text": [
      "KNN with k=5, RMSE=1.0825871115584313\n",
      "KNN with k=10, RMSE=1.0825871115584313\n",
      "KNN with k=15, RMSE=1.0825871115584313\n",
      "KNN with k=20, RMSE=1.0825871115584313\n",
      "KNN with k=25, RMSE=1.0825871115584313\n",
      "KNN with k=30, RMSE=1.0825871115584313\n",
      "KNN with k=35, RMSE=1.0825871115584313\n",
      "KNN with k=40, RMSE=1.0825871115584313\n",
      "KNN with k=45, RMSE=1.0825871115584313\n",
      "KNN with k=50, RMSE=1.0825871115584313\n"
     ]
    },
    {
     "data": {
      "image/png": "[encoded data removed]",
      "text/plain": [
       "<Figure size 640x480 with 1 Axes>"
      ]
     },
     "metadata": {},
     "output_type": "display_data"
    },
    {
     "name": "stdout",
     "output_type": "stream",
     "text": [
      "Best KNN parameters: {'best_k': 5, 'best_rmse': np.float64(1.0825871115584313)}\n"
     ]
    }
   ],
   "source": [
    "# Collaborative filtering evaluation using RMSE\n",
    "def evaluate_collaborative_filtering(test_data, user_item_matrix_sparse, knn_model, user_item_matrix_df):\n",
    "    \"\"\"\n",
    "    Evaluates the collaborative filtering model using Root Mean Squared Error (RMSE).\n",
    "\n",
    "    Args:\n",
    "        test_data (DataFrame): The test dataset containing user-movie ratings.\n",
    "        user_item_matrix_sparse (csr_matrix): User-item interaction matrix (sparse).\n",
    "        knn_model (NearestNeighbors): Trained KNN model.\n",
    "        user_item_matrix_df (DataFrame): Original user_item_matrix (DataFrame).\n",
    "\n",
    "    Returns:\n",
    "        float: RMSE value.\n",
    "    \"\"\"\n",
    "    predictions = []\n",
    "    actual_ratings = []\n",
    "\n",
    "    for index, row in test_data.iterrows():\n",
    "        user_id = row['userId']\n",
    "        movie_id = row['movieId']\n",
    "        actual_rating = row['rating']\n",
    "\n",
    "        try:\n",
    "            user_index = user_item_matrix_df.index.get_loc(user_id) #LOOKUP FROM ORIGINAL DATAFRAME\n",
    "            movie_index = user_item_matrix_df.columns.get_loc(movie_id) #Get the column index from the user_item_matrix column.\n",
    "\n",
    "            distances, indices = knn_model.kneighbors(user_item_matrix_sparse[user_index, :].reshape(1, -1), n_neighbors=6) # Use 6 neighbors (adjust as needed)\n",
    "\n",
    "            #Exclude the user themselves\n",
    "            similar_users = user_item_matrix_df.iloc[indices[0][1:], :]\n",
    "\n",
    "            #Get rating from similar users for this movie.\n",
    "\n",
    "            # Convert sparse matrix row to dense array for indexing:\n",
    "            similar_user_ratings = user_item_matrix_df.iloc[indices[0][1:], movie_index] # use movie_index to lookup the column\n",
    "\n",
    "            similar_user_ratings = similar_user_ratings[similar_user_ratings > 0]  # Consider only users who rated the movie\n",
    "\n",
    "            if not similar_user_ratings.empty:\n",
    "                predicted_rating = similar_user_ratings.mean()\n",
    "            else:\n",
    "                predicted_rating = user_item_matrix_df.iloc[user_index, :].mean() #If no similar user has rated the movie, use user's average rating\n",
    "\n",
    "\n",
    "        except KeyError: #If user or movie is not in the training data.\n",
    "            predicted_rating = user_item_matrix_df.values.mean() #overall average\n",
    "\n",
    "        predictions.append(predicted_rating)\n",
    "        actual_ratings.append(actual_rating)\n",
    "\n",
    "\n",
    "    rmse = np.sqrt(mean_squared_error(actual_ratings, predictions))\n",
    "    return rmse\n",
    "\n",
    "best_knn = find_best_knn_params(user_item_matrix_sparse, train_data, test_data) # Use the sparse matrix\n",
    "print(f\"Best KNN parameters: {best_knn}\")\n"
   ]
  },
  {
   "cell_type": "markdown",
   "metadata": {
    "id": "I5T85ny_TJ83"
   },
   "source": [
    "## Training and Evaluating SVD:\n",
    "- **Train SVD Model:** trains an SVD model to the data.\n",
    "- **Prediction:** predict the movies base on the user and the movie.\n",
    "- **Evaluate the model:** the evaluate the SVD and return the root mean squared error."
   ]
  },
  {
   "cell_type": "code",
   "execution_count": 13,
   "metadata": {
    "id": "zqaTX43STJqv"
   },
   "outputs": [],
   "source": [
    "# SVD for Collaborative Filtering\n",
    "\n",
    "def train_svd_model(user_item_matrix, n_components=50):\n",
    "    \"\"\"\n",
    "    Trains an SVD model for collaborative filtering.\n",
    "\n",
    "    Args:\n",
    "        user_item_matrix (DataFrame): User-item interaction matrix.\n",
    "        n_components (int): Number of components for SVD.\n",
    "\n",
    "    Returns:\n",
    "        TruncatedSVD: Trained SVD model.\n",
    "    \"\"\"\n",
    "    svd = TruncatedSVD(n_components=n_components, random_state=42)\n",
    "    svd.fit(user_item_matrix)\n",
    "    return svd\n",
    "\n",
    "def predict_rating_svd(user_id, movie_id, user_item_matrix):\n",
    "    \"\"\"\n",
    "    Predicts a rating using the trained SVD model.\n",
    "\n",
    "    Args:\n",
    "        user_id (int): User ID.\n",
    "        movie_id (int): Movie ID.\n",
    "        user_item_matrix (DataFrame): User-item interaction matrix.\n",
    "        svd (TruncatedSVD): Trained SVD model.\n",
    "\n",
    "    Returns:\n",
    "        float: Predicted rating.\n",
    "    \"\"\"\n",
    "    try:\n",
    "        user_index = user_item_matrix.index.get_loc(user_id)\n",
    "        movie_index = user_item_matrix.columns.get_loc(movie_id)\n",
    "    except KeyError:\n",
    "        return user_item_matrix.values.mean()\n",
    "\n",
    "    predicted_rating = user_item_matrix.iloc[user_index, movie_index] #returning the rating directly instead\n",
    "    return predicted_rating\n"
   ]
  },
  {
   "cell_type": "code",
   "execution_count": 14,
   "metadata": {
    "colab": {
     "base_uri": "https://localhost:8080/"
    },
    "id": "U88N_1jtT5mX",
    "outputId": "637f2636-7b96-4c77-acae-ff60961f38c8"
   },
   "outputs": [
    {
     "name": "stdout",
     "output_type": "stream",
     "text": [
      "SVD RMSE: 0.45350191487287794\n"
     ]
    }
   ],
   "source": [
    "def evaluate_svd(test_data, user_item_matrix): #removed svd as an argument, svd is not used\n",
    "    \"\"\"\n",
    "    Evaluates SVD using RMSE.\n",
    "\n",
    "    Args:\n",
    "        test_data (DataFrame): Test data.\n",
    "        user_item_matrix (DataFrame): User-item matrix.\n",
    "        svd (TruncatedSVD): Trained SVD model.\n",
    "\n",
    "    Returns:\n",
    "        float: RMSE value.\n",
    "    \"\"\"\n",
    "    predictions = []\n",
    "    actual_ratings = []\n",
    "\n",
    "    for index, row in test_data.iterrows():\n",
    "        user_id = row['userId']\n",
    "        movie_id = row['movieId']\n",
    "        actual_rating = row['rating']\n",
    "        predicted_rating = predict_rating_svd(user_id, movie_id, user_item_matrix)\n",
    "        predictions.append(predicted_rating)\n",
    "        actual_ratings.append(actual_rating)\n",
    "\n",
    "    rmse = np.sqrt(mean_squared_error(actual_ratings, predictions))\n",
    "    return rmse\n",
    "\n",
    "svd_model = train_svd_model(user_item_matrix, n_components=50)\n",
    "svd_rmse = evaluate_svd(test_data, user_item_matrix)\n",
    "print(f\"SVD RMSE: {svd_rmse}\")"
   ]
  },
  {
   "cell_type": "markdown",
   "metadata": {
    "id": "cqmoZ0wBTqQh"
   },
   "source": [
    "## Weighted Hybrid Approach:\n",
    "- **Combining Recommendations:** This function aims to combine content-based filtering, KNN collaborative filtering, and SVD to create more accurate recommendations.\n",
    "- **Calculate Weighted Rating:** Computes a weighted average of the predicted ratings from the KNN and SVD models to make a final prediction. The weights determine how much influence each model has on the final result.\n",
    "- **Using the Model:** Demonstrate how to use the weighted hybrid approach to predict a single rating for a specific user and movie. This shows how to get a combined prediction from the different models."
   ]
  },
  {
   "cell_type": "code",
   "execution_count": 15,
   "metadata": {
    "colab": {
     "base_uri": "https://localhost:8080/"
    },
    "id": "ESiRwI7CTqCo",
    "outputId": "95aee077-dfbe-425d-aaa6-e3d0e51d7d12"
   },
   "outputs": [
    {
     "name": "stdout",
     "output_type": "stream",
     "text": [
      "The rating for User 1 and Movie 1: 1.9228346456692913\n"
     ]
    }
   ],
   "source": [
    "# More Sophisticated Hybrid Approach (Weighted Averaging)\n",
    "\n",
    "def weighted_hybrid_recommendations(user_id, movie_id, user_item_matrix, knn_model, svd_model, content_weight=0.3, knn_weight=0.3, svd_weight=0.4, n=10):\n",
    "    \"\"\"\n",
    "    Recommends movies using a weighted hybrid approach combining content-based, KNN, and SVD.\n",
    "    Note: This function ONLY predicts a rating for one movie, does NOT return the top N recommendations!\n",
    "    This will need to be modified to fit in our recommendation function (colloborative_recommendations)\n",
    "    \"\"\"\n",
    "    #TODO: To implement this, we need to make content based filtering return the similar users\n",
    "    #       that enjoy the movie, and take the average of all the models to predict the user rating\n",
    "\n",
    "    # For demonstration purposes, we'll only combine KNN and SVD rating predictions\n",
    "    # and ignore the content-based part (because it doesn't return users).\n",
    "\n",
    "    try:\n",
    "        user_index = user_item_matrix.index.get_loc(user_id)\n",
    "        movie_index = user_item_matrix.columns.get_loc(movie_id)\n",
    "    except KeyError:\n",
    "        return user_item_matrix.values.mean()\n",
    "\n",
    "    # KNN Prediction\n",
    "    distances, indices = knn_model.kneighbors(user_item_matrix.iloc[user_index, :].values.reshape(1, -1), n_neighbors=6)\n",
    "    similar_users = user_item_matrix.iloc[indices[0][1:], :]\n",
    "    similar_user_ratings = similar_users[movie_id]\n",
    "    similar_user_ratings = similar_user_ratings[similar_user_ratings > 0]\n",
    "\n",
    "    if not similar_user_ratings.empty:\n",
    "        knn_predicted_rating = similar_user_ratings.mean()\n",
    "    else:\n",
    "        knn_predicted_rating = user_item_matrix.iloc[user_index, :].mean()\n",
    "\n",
    "    # SVD Prediction\n",
    "    svd_predicted_rating = predict_rating_svd(user_id, movie_id, user_item_matrix)\n",
    "\n",
    "    # Weighted Average\n",
    "    weighted_rating = (knn_weight * knn_predicted_rating) + (svd_weight * svd_predicted_rating)\n",
    "    return weighted_rating\n",
    "\n",
    "# Evaluate the weighted hybrid approach (Illustrative - requires modification)\n",
    "# Example of prediction:\n",
    "user_id_example = 1\n",
    "movie_id_example = 1\n",
    "\n",
    "# After getting best K\n",
    "knn_model = NearestNeighbors(metric='cosine', algorithm='brute', n_neighbors=best_knn['best_k'])\n",
    "knn_model.fit(user_item_matrix_sparse)\n",
    "\n",
    "predicted_rating = weighted_hybrid_recommendations(user_id_example, movie_id_example, user_item_matrix, knn_model, svd_model) #TODO: implement the knn_model\n",
    "print(f\"The rating for User {user_id_example} and Movie {movie_id_example}: {predicted_rating}\")\n"
   ]
  },
  {
   "cell_type": "markdown",
   "metadata": {
    "id": "BfgY5WYbUU_A"
   },
   "source": [
    "## **Cold Start Recommendations:**\n",
    "- **Helping New Users:** This function addresses the \"cold start problem,\" which occurs when the system has no data about a new user.\n",
    "- **Recommend Popular Movies:** It recommends movies based on their average ratings."
   ]
  },
  {
   "cell_type": "code",
   "execution_count": 16,
   "metadata": {
    "colab": {
     "base_uri": "https://localhost:8080/"
    },
    "id": "AeBgv8DxUUvX",
    "outputId": "2700f4ec-1f1f-4b9c-a807-49cc33577fc8"
   },
   "outputs": [
    {
     "name": "stdout",
     "output_type": "stream",
     "text": [
      "\n",
      "Cold Start Recommendations for New User 669:\n",
      "6                       AGNI PARIKSHA\n",
      "61                          JALSAGHAR\n",
      "119    TARA TIN JON HE PRITHIBI BIDAY\n",
      "130                       SWOPNODANAY\n",
      "132                           BHAT DE\n",
      "169                         Eken Babu\n",
      "173                           Karagar\n",
      "179                              Gora\n",
      "252                      Mukhyamantri\n",
      "253              Gariahater Ganglords\n",
      "Name: title, dtype: object\n"
     ]
    }
   ],
   "source": [
    "# Handling Cold Start Problems\n",
    "\n",
    "# For new users: Recommend based on average movie ratings or popularity.\n",
    "# For new movies: Recommend to users who have liked similar genres.\n",
    "\n",
    "def cold_start_recommendations(user_id, movies_df, ratings_df, n=10):\n",
    "    \"\"\"Recommends movies to a new user based on average ratings.\"\"\"\n",
    "    # Calculate average ratings for each movie\n",
    "    avg_ratings = ratings_df.groupby('movieId')['rating'].mean().sort_values(ascending=False)\n",
    "\n",
    "    # Get the top N movies based on average ratings\n",
    "    top_movie_ids = avg_ratings.head(n).index\n",
    "    top_movies = movies_df[movies_df['movieId'].isin(top_movie_ids)]['title']\n",
    "\n",
    "    return top_movies\n",
    "\n",
    "\n",
    "# Example of using cold start recommendations:\n",
    "new_user_id = ratings_df['userId'].max() + 1\n",
    "print(f\"\\nCold Start Recommendations for New User {new_user_id}:\")\n",
    "print(cold_start_recommendations(new_user_id, movies_df, ratings_df))\n"
   ]
  },
  {
   "cell_type": "markdown",
   "metadata": {
    "id": "nUWFWGON-2f3"
   },
   "source": [
    "# **Regularization Techniques**\n",
    "- Apply regularization to SVD or other matrix factorization techniques\n",
    "- to prevent overfitting.  This would typically involve adding penalty\n",
    "- terms to the loss function during training. This is more advanced and\n",
    "- depends on the specific algorithm used."
   ]
  },
  {
   "cell_type": "code",
   "execution_count": 17,
   "metadata": {
    "colab": {
     "base_uri": "https://localhost:8080/"
    },
    "id": "_G6rTSAK-tH8",
    "outputId": "39357ac8-6755-489d-fc37-ab11d85efb55"
   },
   "outputs": [
    {
     "name": "stdout",
     "output_type": "stream",
     "text": [
      "Regularized SVD RMSE: 2.6741374767508064\n"
     ]
    }
   ],
   "source": [
    "import pandas as pd\n",
    "import numpy as np\n",
    "from sklearn.decomposition import TruncatedSVD\n",
    "from sklearn.metrics import mean_squared_error\n",
    "\n",
    "def train_svd_with_regularization(user_item_matrix, n_components=50, alpha=0.1):\n",
    "    \"\"\"\n",
    "    Trains an SVD model with L2 regularization for collaborative filtering.\n",
    "\n",
    "    Args:\n",
    "        user_item_matrix (DataFrame): User-item interaction matrix.\n",
    "        n_components (int): Number of components for SVD.\n",
    "        alpha (float): L2 regularization strength (lambda).\n",
    "\n",
    "    Returns:\n",
    "        TruncatedSVD: Trained SVD model.\n",
    "    \"\"\"\n",
    "    svd = TruncatedSVD(n_components=n_components, random_state=42)\n",
    "\n",
    "    # Apply regularization by adding a penalty to the singular values\n",
    "    # This is a simplified approach.  A more rigorous approach would\n",
    "    # involve modifying the SVD algorithm itself.\n",
    "    U, s, Vt = np.linalg.svd(user_item_matrix) # Perform SVD\n",
    "    s = s - alpha * s # Apply L2 Regularization using alpha value\n",
    "\n",
    "    # Reconstruct the matrix\n",
    "    s = np.diag(s)\n",
    "    user_item_matrix_reg = np.dot(U[:, :n_components], np.dot(s[:n_components, :n_components], Vt[:n_components, :]))\n",
    "    # Convert back to dataframe\n",
    "    user_item_matrix_reg_df = pd.DataFrame(user_item_matrix_reg, index=user_item_matrix.index, columns=user_item_matrix.columns)\n",
    "\n",
    "    #Fit the model with the regularized matrix:\n",
    "    svd.fit(user_item_matrix_reg_df)\n",
    "    return svd, user_item_matrix_reg_df\n",
    "\n",
    "\n",
    "def predict_rating_svd_regularized(user_id, movie_id, user_item_matrix, svd):\n",
    "    \"\"\"\n",
    "    Predicts a rating using the trained regularized SVD model.\n",
    "\n",
    "    Args:\n",
    "        user_id (int): User ID.\n",
    "        movie_id (int): Movie ID.\n",
    "        user_item_matrix (DataFrame): User-item interaction matrix.\n",
    "        svd (TruncatedSVD): Trained SVD model.\n",
    "\n",
    "    Returns:\n",
    "        float: Predicted rating.\n",
    "    \"\"\"\n",
    "    try:\n",
    "        user_index = user_item_matrix.index.get_loc(user_id)\n",
    "        movie_index = user_item_matrix.columns.get_loc(movie_id)\n",
    "    except KeyError:\n",
    "        return user_item_matrix.values.mean()  # Default to average if user or movie not found\n",
    "\n",
    "    user_vector = user_item_matrix.iloc[user_index, :].values.reshape(1, -1)\n",
    "    predicted_rating = svd.inverse_transform(svd.transform(user_vector))[0, movie_index]\n",
    "    return predicted_rating\n",
    "\n",
    "\n",
    "def evaluate_svd_regularized(test_data, user_item_matrix, svd):\n",
    "    \"\"\"\n",
    "    Evaluates the regularized SVD model using RMSE.\n",
    "\n",
    "    Args:\n",
    "        test_data (DataFrame): Test data.\n",
    "        user_item_matrix (DataFrame): User-item matrix.\n",
    "        svd (TruncatedSVD): Trained SVD model.\n",
    "\n",
    "    Returns:\n",
    "        float: RMSE value.\n",
    "    \"\"\"\n",
    "    predictions = []\n",
    "    actual_ratings = []\n",
    "\n",
    "    for index, row in test_data.iterrows():\n",
    "        user_id = row['userId']\n",
    "        movie_id = row['movieId']\n",
    "        actual_rating = row['rating']\n",
    "        predicted_rating = predict_rating_svd_regularized(user_id, movie_id, user_item_matrix, svd)\n",
    "        predictions.append(predicted_rating)\n",
    "        actual_ratings.append(actual_rating)\n",
    "\n",
    "    rmse = np.sqrt(mean_squared_error(actual_ratings, predictions))\n",
    "    return rmse\n",
    "\n",
    "\n",
    "# Generate a random user item matrix for demonstration\n",
    "user_item_matrix = pd.DataFrame(np.random.rand(100, 50), columns=[f'movie_{i}' for i in range(50)])\n",
    "\n",
    "svd_model_reg, user_item_matrix_reg_df = train_svd_with_regularization(user_item_matrix, n_components=50, alpha=0.1)\n",
    "\n",
    "# Generate a random test dataset for demonstration\n",
    "test_data = pd.DataFrame({\n",
    "    'userId': np.random.randint(0, 100, 100),\n",
    "    'movieId': np.random.randint(0, 50, 100),\n",
    "    'rating': np.random.rand(100) * 5  # Assuming ratings are on a scale of 0-5\n",
    "})\n",
    "\n",
    "svd_rmse_reg = evaluate_svd_regularized(test_data, user_item_matrix_reg_df, svd_model_reg) #pass the regualrized user_item_matrix\n",
    "print(f\"Regularized SVD RMSE: {svd_rmse_reg}\")"
   ]
  },
  {
   "cell_type": "markdown",
   "metadata": {
    "id": "6XTgIxLweI8m"
   },
   "source": [
    "# **Conclusion:**\n",
    "\n",
    "The movie recommendation system was built by exploring KNN collaborative filtering, SVD, and hybrid approaches. Key steps included data preprocessing, feature engineering, model training, and evaluation using RMSE. The KNN model was optimized by tuning the number of neighbors.\n"
   ]
  },
  {
   "cell_type": "markdown",
   "metadata": {
    "id": "qOC5osHgeRqA"
   },
   "source": [
    "# **Recommendations:**\n",
    "1. **Focus on SVD:** The SVD model outperformed the KNN model based on initial RMSE values, and should be the model used. Further tuning SVD would likely improve performance.\n",
    "2. **Weighted Hybrid Improvement:** The hybrid approach of KNN and SVD needs refinement. Weighing the models differently, or focusing on the SVD result may be necessary.\n",
    "3. **Feature Expansion:** Incorporating movie plot summaries to content filtering and improve content-based recommendations.\n",
    "4. **Further Refine Regularization for SVD:** Implement more sophisticated regularization techniques within the SVD algorithm itself for potential performance gains.\n",
    "5. **Address Cold Start:** Prioritize cold-start strategies for new users or movies using the existing cold-start function."
   ]
  },
  {
   "cell_type": "code",
   "execution_count": null,
   "metadata": {},
   "outputs": [],
   "source": []
  }
 ],
 "metadata": {
  "colab": {
   "authorship_tag": "ABX9TyNMQp+K+b0IPdDbwxDXHCrs",
   "include_colab_link": true,
   "provenance": [],
   "toc_visible": true
  },
  "kernelspec": {
   "display_name": "ML (venv)",
   "language": "python",
   "name": "ml_env"
  },
  "language_info": {
   "codemirror_mode": {
    "name": "ipython",
    "version": 3
   },
   "file_extension": ".py",
   "mimetype": "text/x-python",
   "name": "python",
   "nbconvert_exporter": "python",
   "pygments_lexer": "ipython3",
   "version": "3.13.7"
  }
 },
 "nbformat": 4,
 "nbformat_minor": 4
}
